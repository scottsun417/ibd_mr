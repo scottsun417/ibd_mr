{
 "cells": [
  {
   "cell_type": "code",
   "execution_count": 1,
   "id": "90061ee5",
   "metadata": {},
   "outputs": [
    {
     "name": "stdout",
     "output_type": "stream",
     "text": [
      "Requirement already satisfied: xgboost in /Users/zhiyi/opt/anaconda3/lib/python3.9/site-packages (1.7.2)\n",
      "Requirement already satisfied: numpy in /Users/zhiyi/opt/anaconda3/lib/python3.9/site-packages (from xgboost) (1.21.5)\n",
      "Requirement already satisfied: scipy in /Users/zhiyi/opt/anaconda3/lib/python3.9/site-packages (from xgboost) (1.7.3)\n",
      "Requirement already satisfied: imblearn in /Users/zhiyi/opt/anaconda3/lib/python3.9/site-packages (0.0)\n",
      "Requirement already satisfied: imbalanced-learn in /Users/zhiyi/opt/anaconda3/lib/python3.9/site-packages (from imblearn) (0.10.0)\n",
      "Requirement already satisfied: threadpoolctl>=2.0.0 in /Users/zhiyi/opt/anaconda3/lib/python3.9/site-packages (from imbalanced-learn->imblearn) (2.2.0)\n",
      "Requirement already satisfied: numpy>=1.17.3 in /Users/zhiyi/opt/anaconda3/lib/python3.9/site-packages (from imbalanced-learn->imblearn) (1.21.5)\n",
      "Requirement already satisfied: joblib>=1.1.1 in /Users/zhiyi/opt/anaconda3/lib/python3.9/site-packages (from imbalanced-learn->imblearn) (1.2.0)\n",
      "Requirement already satisfied: scipy>=1.3.2 in /Users/zhiyi/opt/anaconda3/lib/python3.9/site-packages (from imbalanced-learn->imblearn) (1.7.3)\n",
      "Requirement already satisfied: scikit-learn>=1.0.2 in /Users/zhiyi/opt/anaconda3/lib/python3.9/site-packages (from imbalanced-learn->imblearn) (1.0.2)\n"
     ]
    }
   ],
   "source": [
    "import sys\n",
    "!{sys.executable} -m pip install xgboost\n",
    "!{sys.executable} -m pip install imblearn"
   ]
  },
  {
   "cell_type": "code",
   "execution_count": 2,
   "id": "de6eb46a",
   "metadata": {},
   "outputs": [],
   "source": [
    "import sklearn\n",
    "import pandas as pd\n",
    "import numpy as np\n",
    "import matplotlib.pyplot as plt\n",
    "import seaborn as sns"
   ]
  },
  {
   "cell_type": "code",
   "execution_count": 6,
   "id": "39917f7f",
   "metadata": {},
   "outputs": [
    {
     "name": "stdout",
     "output_type": "stream",
     "text": [
      "      sex  location  nutrition  reason  history  past_diagnosis  diagnosis  \\\n",
      "0       1         3          2       1        2               4          1   \n",
      "1       1         3          2       1        2               4          1   \n",
      "2       1         2          2       1        2               4          3   \n",
      "3       2         1          2       1        2               4          3   \n",
      "4       1         2          2       1        2               4          1   \n",
      "...   ...       ...        ...     ...      ...             ...        ...   \n",
      "2663    1         1          2       1        2               4          1   \n",
      "2664    1         1          2       1        1               2          2   \n",
      "2665    2         2          2       1        2               4          3   \n",
      "2666    1         1          2       1        2               4          1   \n",
      "2667    1         2          2       1        2               4          2   \n",
      "\n",
      "      polyp_loca  polyp_size  polyp_num  ...  polyp_state  pathology  \\\n",
      "0              1         0.2          2  ...            1          1   \n",
      "1              1         0.3          2  ...            1          1   \n",
      "2              2         0.3          1  ...            1          1   \n",
      "3              2         0.3          1  ...            1          1   \n",
      "4              1         0.3          1  ...            1          1   \n",
      "...          ...         ...        ...  ...          ...        ...   \n",
      "2663           1         4.0          1  ...            1          6   \n",
      "2664           2         4.5          1  ...            1          6   \n",
      "2665           3         4.5          1  ...            1          6   \n",
      "2666           1         4.5          1  ...            1          6   \n",
      "2667           2         0.9          1  ...            1          2   \n",
      "\n",
      "           age  recrudescence  intussusception\\n  polyp_size2 polyp_num2  \\\n",
      "0     8.487671              2                  0            A          B   \n",
      "1     3.243836              2                  0            A          B   \n",
      "2     2.698630              2                  0            A          A   \n",
      "3     1.287671              2                  0            A          A   \n",
      "4     6.202740              2                  0            A          A   \n",
      "...        ...            ...                ...          ...        ...   \n",
      "2663  3.123288              2                  0            D          A   \n",
      "2664  6.983562              2                  0            D          A   \n",
      "2665  3.802740              2                  0            D          A   \n",
      "2666  2.035616              2                  0            D          A   \n",
      "2667  4.254795              2                  0            A          A   \n",
      "\n",
      "     age_group adenomatoid  surgery  \n",
      "0            E           1        2  \n",
      "1            D           1        2  \n",
      "2            C           1        2  \n",
      "3            C           1        2  \n",
      "4            D           1        2  \n",
      "...        ...         ...      ...  \n",
      "2663         D           1        2  \n",
      "2664         E           1        2  \n",
      "2665         D           1        2  \n",
      "2666         C           1        2  \n",
      "2667         D           1        2  \n",
      "\n",
      "[2668 rows x 21 columns]\n"
     ]
    }
   ],
   "source": [
    "c = pd.read_excel('polyp_data v2.xlsx')\n",
    "print(c)"
   ]
  },
  {
   "cell_type": "code",
   "execution_count": 21,
   "id": "ee17fe4a",
   "metadata": {},
   "outputs": [
    {
     "name": "stdout",
     "output_type": "stream",
     "text": [
      "      sex  location  nutrition  reason  history  past_diagnosis  diagnosis  \\\n",
      "0       1         3          2       1        2               4          1   \n",
      "1       1         3          2       1        2               4          1   \n",
      "2       1         2          2       1        2               4          3   \n",
      "3       2         1          2       1        2               4          3   \n",
      "4       1         2          2       1        2               4          1   \n",
      "...   ...       ...        ...     ...      ...             ...        ...   \n",
      "2663    1         1          2       1        2               4          1   \n",
      "2664    1         1          2       1        1               2          2   \n",
      "2665    2         2          2       1        2               4          3   \n",
      "2666    1         1          2       1        2               4          1   \n",
      "2667    1         2          2       1        2               4          2   \n",
      "\n",
      "      polyp_loca  polyp_size  polyp_num  polyp_shape  polyp_state  pathology  \\\n",
      "0              1         0.2          2            3            1          1   \n",
      "1              1         0.3          2            3            1          1   \n",
      "2              2         0.3          1            1            1          1   \n",
      "3              2         0.3          1            1            1          1   \n",
      "4              1         0.3          1            1            1          1   \n",
      "...          ...         ...        ...          ...          ...        ...   \n",
      "2663           1         4.0          1            3            1          6   \n",
      "2664           2         4.5          1            3            1          6   \n",
      "2665           3         4.5          1            3            1          6   \n",
      "2666           1         4.5          1            3            1          6   \n",
      "2667           2         0.9          1            3            1          2   \n",
      "\n",
      "           age  recrudescence  intussusception  \n",
      "0     8.487671              2                0  \n",
      "1     3.243836              2                0  \n",
      "2     2.698630              2                0  \n",
      "3     1.287671              2                0  \n",
      "4     6.202740              2                0  \n",
      "...        ...            ...              ...  \n",
      "2663  3.123288              2                0  \n",
      "2664  6.983562              2                0  \n",
      "2665  3.802740              2                0  \n",
      "2666  2.035616              2                0  \n",
      "2667  4.254795              2                0  \n",
      "\n",
      "[2668 rows x 16 columns]\n"
     ]
    }
   ],
   "source": [
    "d = c.iloc[:, 0:16]\n",
    "d.columns = d.columns.str.strip()\n",
    "print(d)"
   ]
  },
  {
   "cell_type": "code",
   "execution_count": 22,
   "id": "d71fccba",
   "metadata": {},
   "outputs": [
    {
     "data": {
      "image/png": "[encoded data removed]",
      "text/plain": [
       "<Figure size 576x432 with 1 Axes>"
      ]
     },
     "metadata": {
      "needs_background": "light"
     },
     "output_type": "display_data"
    }
   ],
   "source": [
    "vals = d.intussusception.value_counts()\n",
    "\n",
    "plt.figure(figsize=(8,6))\n",
    "plt.rc('font', size=12)\n",
    "\n",
    "ax = vals.plot.bar(rot=0, color='#4B4E6D')\n",
    "\n",
    "for i in range(len(vals)):\n",
    "    ax.annotate(vals[i], xy=[vals.index[i], vals[i]], ha='center', va='bottom')"
   ]
  },
  {
   "cell_type": "code",
   "execution_count": 23,
   "id": "5ffdce4d",
   "metadata": {},
   "outputs": [
    {
     "name": "stdout",
     "output_type": "stream",
     "text": [
      "X shape: (2668, 15)\n",
      "y shape: (2668,)\n"
     ]
    }
   ],
   "source": [
    "X = d.loc[:, d.columns != 'intussusception']\n",
    "y = d.intussusception\n",
    "print('X shape:', X.shape)\n",
    "print('y shape:', y.shape)"
   ]
  },
  {
   "cell_type": "code",
   "execution_count": 30,
   "id": "a815d6e7",
   "metadata": {},
   "outputs": [],
   "source": [
    "from sklearn.model_selection import train_test_split\n",
    "X_train, X_test, y_train, y_test = train_test_split(X, y, test_size=0.2, random_state=12)"
   ]
  },
  {
   "cell_type": "code",
   "execution_count": 31,
   "id": "df6e802f",
   "metadata": {},
   "outputs": [
    {
     "name": "stdout",
     "output_type": "stream",
     "text": [
      "Accuracy: 90.82%\n",
      "Confusion Matrix:\n",
      "         Predict[0]  Predict[1]\n",
      "True[0]         451          17\n",
      "True[1]          32          34\n"
     ]
    },
    {
     "data": {
      "text/html": [
       "<div>\n",
       "<style scoped>\n",
       "    .dataframe tbody tr th:only-of-type {\n",
       "        vertical-align: middle;\n",
       "    }\n",
       "\n",
       "    .dataframe tbody tr th {\n",
       "        vertical-align: top;\n",
       "    }\n",
       "\n",
       "    .dataframe thead th {\n",
       "        text-align: right;\n",
       "    }\n",
       "</style>\n",
       "<table border=\"1\" class=\"dataframe\">\n",
       "  <thead>\n",
       "    <tr style=\"text-align: right;\">\n",
       "      <th></th>\n",
       "      <th>Predict[0]</th>\n",
       "      <th>Predict[1]</th>\n",
       "    </tr>\n",
       "  </thead>\n",
       "  <tbody>\n",
       "    <tr>\n",
       "      <th>True[0]</th>\n",
       "      <td>451</td>\n",
       "      <td>17</td>\n",
       "    </tr>\n",
       "    <tr>\n",
       "      <th>True[1]</th>\n",
       "      <td>32</td>\n",
       "      <td>34</td>\n",
       "    </tr>\n",
       "  </tbody>\n",
       "</table>\n",
       "</div>"
      ],
      "text/plain": [
       "         Predict[0]  Predict[1]\n",
       "True[0]         451          17\n",
       "True[1]          32          34"
      ]
     },
     "execution_count": 31,
     "metadata": {},
     "output_type": "execute_result"
    }
   ],
   "source": [
    "from xgboost import XGBClassifier\n",
    "from sklearn.metrics import classification_report, accuracy_score, confusion_matrix\n",
    "\n",
    "model = XGBClassifier()\n",
    "model.fit(X_train, y_train)\n",
    "y_pred = model.predict(X_test)\n",
    "\n",
    "accuracy = accuracy_score(y_test, y_pred)\n",
    "print(\"Accuracy: %.2f%%\" % (accuracy * 100.0))\n",
    "\n",
    "def confusion(y_test, y_pred):\n",
    "    conf = pd.DataFrame(confusion_matrix(y_test, y_pred), index=['True[0]', 'True[1]'], columns=['Predict[0]', 'Predict[1]'])\n",
    "    print('Confusion Matrix:')\n",
    "    print(conf)\n",
    "    return conf\n",
    "\n",
    "confusion(y_test, y_pred) "
   ]
  },
  {
   "cell_type": "code",
   "execution_count": 32,
   "id": "418d88ec",
   "metadata": {},
   "outputs": [
    {
     "name": "stdout",
     "output_type": "stream",
     "text": [
      "0    1854\n",
      "1    1854\n",
      "Name: intussusception, dtype: int64\n",
      "0    468\n",
      "1    468\n",
      "Name: intussusception, dtype: int64\n"
     ]
    }
   ],
   "source": [
    "from imblearn.over_sampling import SMOTE\n",
    "\n",
    "smote = SMOTE(random_state=12)\n",
    "X_train_sm, y_train_sm = smote.fit_resample(X_train, y_train)\n",
    "X_test_sm, y_test_sm = smote.fit_resample(X_test, y_test)\n",
    "\n",
    "X_train_sm = pd.DataFrame(X_train_sm, columns=X.columns)\n",
    "X_test_sm = pd.DataFrame(X_test_sm, columns=X.columns)\n",
    "\n",
    "print(y_train_sm.value_counts())\n",
    "print(y_test_sm.value_counts())"
   ]
  },
  {
   "cell_type": "code",
   "execution_count": 33,
   "id": "9030d9a9",
   "metadata": {},
   "outputs": [
    {
     "name": "stdout",
     "output_type": "stream",
     "text": [
      "Accuracy: 86.54%\n"
     ]
    },
    {
     "data": {
      "text/html": [
       "<div>\n",
       "<style scoped>\n",
       "    .dataframe tbody tr th:only-of-type {\n",
       "        vertical-align: middle;\n",
       "    }\n",
       "\n",
       "    .dataframe tbody tr th {\n",
       "        vertical-align: top;\n",
       "    }\n",
       "\n",
       "    .dataframe thead th {\n",
       "        text-align: right;\n",
       "    }\n",
       "</style>\n",
       "<table border=\"1\" class=\"dataframe\">\n",
       "  <thead>\n",
       "    <tr style=\"text-align: right;\">\n",
       "      <th></th>\n",
       "      <th>Predict[0]</th>\n",
       "      <th>Predict[1]</th>\n",
       "    </tr>\n",
       "  </thead>\n",
       "  <tbody>\n",
       "    <tr>\n",
       "      <th>True[0]</th>\n",
       "      <td>428</td>\n",
       "      <td>40</td>\n",
       "    </tr>\n",
       "    <tr>\n",
       "      <th>True[1]</th>\n",
       "      <td>86</td>\n",
       "      <td>382</td>\n",
       "    </tr>\n",
       "  </tbody>\n",
       "</table>\n",
       "</div>"
      ],
      "text/plain": [
       "         Predict[0]  Predict[1]\n",
       "True[0]         428          40\n",
       "True[1]          86         382"
      ]
     },
     "execution_count": 33,
     "metadata": {},
     "output_type": "execute_result"
    }
   ],
   "source": [
    "# After oversampling, the classification result is more reasonable.\n",
    "model = XGBClassifier()\n",
    "model.fit(X_train_sm, y_train_sm)\n",
    "y_pred_sm = model.predict(X_test_sm)\n",
    "\n",
    "accuracy = accuracy_score(y_test_sm, y_pred_sm)\n",
    "print(\"Accuracy: %.2f%%\" % (accuracy * 100.0))\n",
    "conf = pd.DataFrame(confusion_matrix(y_test_sm, y_pred_sm), index=['True[0]', 'True[1]'], columns=['Predict[0]', 'Predict[1]'])\n",
    "conf"
   ]
  },
  {
   "cell_type": "code",
   "execution_count": 34,
   "id": "c30923fb",
   "metadata": {},
   "outputs": [],
   "source": [
    "from sklearn.model_selection import train_test_split \n",
    "X_train, X_test, y_train, y_test = train_test_split(X, y, test_size=0.2, random_state=12)"
   ]
  },
  {
   "cell_type": "code",
   "execution_count": 35,
   "id": "bffbda4e",
   "metadata": {},
   "outputs": [],
   "source": [
    "from imblearn.over_sampling import SMOTE\n",
    "\n",
    "smote = SMOTE(random_state=12)\n",
    "X_train_sm, y_train_sm = smote.fit_resample(X_train, y_train)\n",
    "#X_test_sm, y_test_sm = smote.fit_sample(X_test, y_test)\n",
    "\n",
    "X_train_sm = pd.DataFrame(X_train_sm, columns=X.columns)\n",
    "#X_test_sm = pd.DataFrame(X_test_sm, columns=X.columns)"
   ]
  },
  {
   "cell_type": "code",
   "execution_count": 36,
   "id": "bb71635e",
   "metadata": {},
   "outputs": [
    {
     "name": "stdout",
     "output_type": "stream",
     "text": [
      "X train shape:  (3708, 15)\n",
      "y train values: \n",
      " 0    1854\n",
      "1    1854\n",
      "Name: intussusception, dtype: int64\n",
      "\n",
      "X test shape:  (936, 15)\n",
      "y test values: \n",
      " 0    468\n",
      "1    468\n",
      "Name: intussusception, dtype: int64\n"
     ]
    }
   ],
   "source": [
    "print('X train shape: ',X_train_sm.shape)\n",
    "print('y train values: \\n', y_train_sm.value_counts())\n",
    "print()\n",
    "print('X test shape: ',X_test_sm.shape)\n",
    "print('y test values: \\n', y_test_sm.value_counts())"
   ]
  },
  {
   "cell_type": "code",
   "execution_count": 37,
   "id": "e3c0942d",
   "metadata": {},
   "outputs": [],
   "source": [
    "mscore=[]"
   ]
  },
  {
   "cell_type": "code",
   "execution_count": 62,
   "id": "e6335784",
   "metadata": {
    "scrolled": true
   },
   "outputs": [
    {
     "name": "stdout",
     "output_type": "stream",
     "text": [
      "Accuracy Score: 0.8764044943820225\n",
      "Prediction: [0 0 0 0 0 0 0 0 0 0 0 0 0 0 0 0 0 0 0 0 0 0 0 0 0 0 0 0 0 0 0 0 0 0 0 0 0\n",
      " 0 0 0 0 0 0 0 0 0 0 0 0 0 0 0 0 0 0 0 0 0 0 0 0 0 0 0 0 0 0 0 0 0 0 0 0 0\n",
      " 0 0 0 0 0 0 0 0 0 0 0 0 0 0 0 0 0 0 0 0 0 0 0 0 0 0 0 0 0 0 0 0 0 0 0 0 0\n",
      " 0 0 0 0 0 0 0 0 0 0 0 0 0 0 0 0 0 0 0 0 0 0 0 0 0 0 0 0 0 0 0 0 0 0 0 0 0\n",
      " 0 0 0 0 0 0 0 0 0 0 0 0 0 0 0 0 0 0 0 0 0 0 0 0 0 0 0 0 0 0 0 0 0 0 0 0 0\n",
      " 0 0 0 0 0 0 0 0 0 0 0 0 0 0 0 0 0 0 0 0 0 0 0 0 0 0 0 0 0 0 0 0 0 0 0 0 0\n",
      " 0 0 0 0 0 0 0 0 0 0 0 0 0 0 0 0 0 0 0 0 0 0 0 0 0 0 0 0 0 0 0 0 0 0 0 0 0\n",
      " 0 0 0 0 0 0 0 0 0 0 0 0 0 0 0 0 0 0 0 0 0 0 0 0 0 0 0 0 0 0 0 0 0 0 0 0 0\n",
      " 0 0 0 0 0 0 0 0 0 0 0 0 0 0 0 0 0 0 0 0 0 0 0 0 0 0 0 0 0 0 0 0 0 0 0 0 0\n",
      " 0 0 0 0 0 0 0 0 0 0 0 0 0 0 0 0 0 0 0 0 0 0 0 0 0 0 0 0 0 0 0 0 0 0 0 0 0\n",
      " 0 0 0 0 0 0 0 0 0 0 0 0 0 0 0 0 0 0 0 0 0 0 0 0 0 0 0 0 0 0 0 0 0 0 0 0 0\n",
      " 0 0 0 0 0 0 0 0 0 0 0 0 0 0 0 0 0 0 0 0 0 0 0 0 0 0 0 0 0 0 0 0 0 0 0 0 0\n",
      " 0 0 0 0 0 0 0 0 0 0 0 0 0 0 0 0 0 0 0 0 0 0 0 0 0 0 0 0 0 0 0 0 0 0 0 0 0\n",
      " 0 0 0 0 0 0 0 0 0 0 0 0 0 0 0 0 0 0 0 0 0 0 0 0 0 0 0 0 0 0 0 0 0 0 0 0 0\n",
      " 0 0 0 0 0 0 0 0 0 0 0 0 0 0 0 0]\n",
      "              precision    recall  f1-score   support\n",
      "\n",
      "           0       0.88      1.00      0.93       468\n",
      "           1       0.00      0.00      0.00        66\n",
      "\n",
      "    accuracy                           0.88       534\n",
      "   macro avg       0.44      0.50      0.47       534\n",
      "weighted avg       0.77      0.88      0.82       534\n",
      "\n",
      "Confusion Matrix:\n",
      "         Predict[0]  Predict[1]\n",
      "True[0]         468           0\n",
      "True[1]          66           0\n"
     ]
    },
    {
     "name": "stderr",
     "output_type": "stream",
     "text": [
      "/Users/zhiyi/opt/anaconda3/lib/python3.9/site-packages/sklearn/model_selection/_validation.py:372: FitFailedWarning: \n",
      "50 fits failed out of a total of 100.\n",
      "The score on these train-test partitions for these parameters will be set to nan.\n",
      "If these failures are not expected, you can try to debug them by setting error_score='raise'.\n",
      "\n",
      "Below are more details about the failures:\n",
      "--------------------------------------------------------------------------------\n",
      "20 fits failed with the following error:\n",
      "Traceback (most recent call last):\n",
      "  File \"/Users/zhiyi/opt/anaconda3/lib/python3.9/site-packages/sklearn/model_selection/_validation.py\", line 680, in _fit_and_score\n",
      "    estimator.fit(X_train, y_train, **fit_params)\n",
      "  File \"/Users/zhiyi/opt/anaconda3/lib/python3.9/site-packages/sklearn/linear_model/_logistic.py\", line 1461, in fit\n",
      "    solver = _check_solver(self.solver, self.penalty, self.dual)\n",
      "  File \"/Users/zhiyi/opt/anaconda3/lib/python3.9/site-packages/sklearn/linear_model/_logistic.py\", line 447, in _check_solver\n",
      "    raise ValueError(\n",
      "ValueError: Solver newton-cg supports only 'l2' or 'none' penalties, got l1 penalty.\n",
      "\n",
      "--------------------------------------------------------------------------------\n",
      "30 fits failed with the following error:\n",
      "Traceback (most recent call last):\n",
      "  File \"/Users/zhiyi/opt/anaconda3/lib/python3.9/site-packages/sklearn/model_selection/_validation.py\", line 680, in _fit_and_score\n",
      "    estimator.fit(X_train, y_train, **fit_params)\n",
      "  File \"/Users/zhiyi/opt/anaconda3/lib/python3.9/site-packages/sklearn/linear_model/_logistic.py\", line 1461, in fit\n",
      "    solver = _check_solver(self.solver, self.penalty, self.dual)\n",
      "  File \"/Users/zhiyi/opt/anaconda3/lib/python3.9/site-packages/sklearn/linear_model/_logistic.py\", line 447, in _check_solver\n",
      "    raise ValueError(\n",
      "ValueError: Solver lbfgs supports only 'l2' or 'none' penalties, got l1 penalty.\n",
      "\n",
      "  warnings.warn(some_fits_failed_message, FitFailedWarning)\n",
      "/Users/zhiyi/opt/anaconda3/lib/python3.9/site-packages/sklearn/model_selection/_search.py:969: UserWarning: One or more of the test scores are non-finite: [0.79446762        nan 0.5        0.5        0.79475701 0.79446762\n",
      "        nan        nan        nan        nan]\n",
      "  warnings.warn(\n",
      "/Users/zhiyi/opt/anaconda3/lib/python3.9/site-packages/sklearn/metrics/_classification.py:1318: UndefinedMetricWarning: Precision and F-score are ill-defined and being set to 0.0 in labels with no predicted samples. Use `zero_division` parameter to control this behavior.\n",
      "  _warn_prf(average, modifier, msg_start, len(result))\n",
      "/Users/zhiyi/opt/anaconda3/lib/python3.9/site-packages/sklearn/metrics/_classification.py:1318: UndefinedMetricWarning: Precision and F-score are ill-defined and being set to 0.0 in labels with no predicted samples. Use `zero_division` parameter to control this behavior.\n",
      "  _warn_prf(average, modifier, msg_start, len(result))\n",
      "/Users/zhiyi/opt/anaconda3/lib/python3.9/site-packages/sklearn/metrics/_classification.py:1318: UndefinedMetricWarning: Precision and F-score are ill-defined and being set to 0.0 in labels with no predicted samples. Use `zero_division` parameter to control this behavior.\n",
      "  _warn_prf(average, modifier, msg_start, len(result))\n"
     ]
    },
    {
     "data": {
      "text/html": [
       "<div>\n",
       "<style scoped>\n",
       "    .dataframe tbody tr th:only-of-type {\n",
       "        vertical-align: middle;\n",
       "    }\n",
       "\n",
       "    .dataframe tbody tr th {\n",
       "        vertical-align: top;\n",
       "    }\n",
       "\n",
       "    .dataframe thead th {\n",
       "        text-align: right;\n",
       "    }\n",
       "</style>\n",
       "<table border=\"1\" class=\"dataframe\">\n",
       "  <thead>\n",
       "    <tr style=\"text-align: right;\">\n",
       "      <th></th>\n",
       "      <th>Predict[0]</th>\n",
       "      <th>Predict[1]</th>\n",
       "    </tr>\n",
       "  </thead>\n",
       "  <tbody>\n",
       "    <tr>\n",
       "      <th>True[0]</th>\n",
       "      <td>468</td>\n",
       "      <td>0</td>\n",
       "    </tr>\n",
       "    <tr>\n",
       "      <th>True[1]</th>\n",
       "      <td>66</td>\n",
       "      <td>0</td>\n",
       "    </tr>\n",
       "  </tbody>\n",
       "</table>\n",
       "</div>"
      ],
      "text/plain": [
       "         Predict[0]  Predict[1]\n",
       "True[0]         468           0\n",
       "True[1]          66           0"
      ]
     },
     "execution_count": 62,
     "metadata": {},
     "output_type": "execute_result"
    }
   ],
   "source": [
    "from sklearn.model_selection import cross_val_score, cross_validate\n",
    "from sklearn.model_selection import RandomizedSearchCV\n",
    "from sklearn.linear_model import LogisticRegression\n",
    "\n",
    "max_iter = range(100, 500)\n",
    "solver = ['lbfgs', 'newton-cg', 'liblinear']\n",
    "warm_start = [True, False]\n",
    "#C = np.arange(0, 1, 0.01)\n",
    "C = [1E-7, 1E-6, 1E-6, 1E-4, 1E-3]\n",
    "penalty = ['l1', 'l2']\n",
    "random_grid ={\n",
    "    'max_iter' : max_iter,\n",
    "    'warm_start' : warm_start,\n",
    "    'solver' : solver,\n",
    "    'penalty': penalty,\n",
    "    'C' : C,\n",
    "}\n",
    "\n",
    "clf = LogisticRegression(random_state=12)\n",
    "#scores = cross_validate(clf, X_train_sm, y_train_sm, cv=10, return_train_score=True)\n",
    "#pd.DataFrame(scores)\n",
    "\n",
    "search = RandomizedSearchCV(clf, scoring='average_precision', cv=10,\n",
    "                            n_iter=10, param_distributions=random_grid,\n",
    "                            refit=True, n_jobs=-1, random_state = 12)\n",
    "search.fit(X_train_sm, y_train_sm)\n",
    "clf = search.best_estimator_\n",
    "\n",
    "clf_ibd_proba = clf.predict_proba(X_test)[:, 1]\n",
    "\n",
    "y_pred = clf.predict(X_test)\n",
    "print('Accuracy Score:', clf.score(X_test, y_test))\n",
    "print('Prediction:', y_pred)\n",
    "\n",
    "mscore.append(['Logistic Regression', clf.score(X_test, y_test)])\n",
    "\n",
    "print(classification_report(y_test, y_pred))\n",
    "confusion(y_test, y_pred)"
   ]
  },
  {
   "cell_type": "code",
   "execution_count": 63,
   "id": "b31dd7fe",
   "metadata": {},
   "outputs": [],
   "source": [
    "def mean_std_cross_val_scores(model, X_train, y_train, **kwargs):\n",
    "    \"\"\"\n",
    "    Returns mean and std of cross validation\n",
    "    \"\"\"\n",
    "    scores = cross_validate(model, X_train_sm, y_train_sm, **kwargs)\n",
    "\n",
    "    mean_scores = pd.DataFrame(scores).mean()\n",
    "    std_scores = pd.DataFrame(scores).std()\n",
    "    out_col = []\n",
    "\n",
    "    for i in range(len(mean_scores)):\n",
    "        out_col.append((f\"%0.3f (+/- %0.3f)\" % (mean_scores[i], std_scores[i])))\n",
    "\n",
    "    return pd.Series(data=out_col, index=mean_scores.index)"
   ]
  },
  {
   "cell_type": "code",
   "execution_count": 64,
   "id": "6e0ba301",
   "metadata": {},
   "outputs": [
    {
     "data": {
      "text/html": [
       "<div>\n",
       "<style scoped>\n",
       "    .dataframe tbody tr th:only-of-type {\n",
       "        vertical-align: middle;\n",
       "    }\n",
       "\n",
       "    .dataframe tbody tr th {\n",
       "        vertical-align: top;\n",
       "    }\n",
       "\n",
       "    .dataframe thead th {\n",
       "        text-align: right;\n",
       "    }\n",
       "</style>\n",
       "<table border=\"1\" class=\"dataframe\">\n",
       "  <thead>\n",
       "    <tr style=\"text-align: right;\">\n",
       "      <th></th>\n",
       "      <th>fit_time</th>\n",
       "      <th>score_time</th>\n",
       "      <th>test_score</th>\n",
       "      <th>train_score</th>\n",
       "    </tr>\n",
       "  </thead>\n",
       "  <tbody>\n",
       "    <tr>\n",
       "      <th>Logistic Regression</th>\n",
       "      <td>0.031 (+/- 0.013)</td>\n",
       "      <td>0.008 (+/- 0.001)</td>\n",
       "      <td>0.500 (+/- 0.000)</td>\n",
       "      <td>0.500 (+/- 0.000)</td>\n",
       "    </tr>\n",
       "  </tbody>\n",
       "</table>\n",
       "</div>"
      ],
      "text/plain": [
       "                              fit_time         score_time         test_score  \\\n",
       "Logistic Regression  0.031 (+/- 0.013)  0.008 (+/- 0.001)  0.500 (+/- 0.000)   \n",
       "\n",
       "                           train_score  \n",
       "Logistic Regression  0.500 (+/- 0.000)  "
      ]
     },
     "execution_count": 64,
     "metadata": {},
     "output_type": "execute_result"
    }
   ],
   "source": [
    "results = {}\n",
    "results[\"Logistic Regression\"] = mean_std_cross_val_scores(\n",
    "    clf, X_train_sm, y_train_sm, return_train_score=True\n",
    ")\n",
    "pd.DataFrame(results).T"
   ]
  },
  {
   "cell_type": "code",
   "execution_count": null,
   "id": "7f1e52be",
   "metadata": {},
   "outputs": [],
   "source": [
    "from sklearn.model_selection import cross_val_score, cross_validate\n",
    "from sklearn.model_selection import RandomizedSearchCV\n",
    "from sklearn.tree import DecisionTreeClassifier\n",
    "\n",
    "log_params = {'penalty': ['l1', 'l2'], 'C': [1E-7, 1E-6, 1E-6, 1E-4, 1E-3]}\n",
    "\n",
    "dt_clf = DecisionTreeClassifier(max_depth=5, random_state=12, return_estimator=True)\n",
    "\n",
    "search = RandomizedSearchCV(dt_clf, scoring='average_precision', cv=10,\n",
    "                            n_iter=10, param_distributions=log_params,\n",
    "                            refit=True, n_jobs=-1)\n",
    "search.fit(X_train_sm, y_train_sm)\n",
    "dt_clf = search.best_estimator_\n",
    "\n",
    "dt_clf_ibd_proba = dt_clf.predict_proba(X_test)[:, 1]\n",
    "\n",
    "y_pred = dt_clf.predict(X_test)\n",
    "print('Accuracy Score:', dt_clf.score(X_test, y_test))\n",
    "print('Prediction:', y_pred)\n",
    "\n",
    "mscore.append(['Decision Tree', dt_clf.score(X_test, y_test)])\n",
    "\n",
    "print(classification_report(y_test, y_pred))\n",
    "confusion(y_test, y_pred)"
   ]
  },
  {
   "cell_type": "code",
   "execution_count": null,
   "id": "6d4fb661",
   "metadata": {},
   "outputs": [],
   "source": [
    "results[\"Decision tree\"] = mean_std_cross_val_scores(\n",
    "    dt_clf, X_train_sm, y_train_sm, return_train_score=True\n",
    ")\n",
    "pd.DataFrame(results).T"
   ]
  },
  {
   "cell_type": "code",
   "execution_count": null,
   "id": "1fb16be8",
   "metadata": {},
   "outputs": [],
   "source": [
    "from sklearn.model_selection import cross_val_score, cross_validate\n",
    "from sklearn.model_selection import RandomizedSearchCV\n",
    "from sklearn.ensemble import RandomForestClassifier\n",
    "\n",
    "random_grid =\n",
    "\n",
    "rf_clf = RandomForestClassifier(random_state=12)\n",
    "\n",
    "search = RandomizedSearchCV(rf_clf, scoring='average_precision', cv=10,\n",
    "                            n_iter=10, param_distributions=log_params,\n",
    "                            refit=True, n_jobs=-1)\n",
    "search.fit(X_train_sm, y_train_sm)\n",
    "rf_clf = search.best_estimator_\n",
    "\n",
    "rf_clf_ibd_proba = rf_clf.predict_proba(X_test)[:, 1]\n",
    "\n",
    "y_pred = rf_clf.predict(X_test)\n",
    "print('Accuracy Score:', rf_clf.score(X_test, y_test))\n",
    "print('Prediction:', y_pred)\n",
    "\n",
    "mscore.append(['Random Forest', rf_clf.score(X_test, y_test)])\n",
    "\n",
    "print(classification_report(y_test, y_pred))\n",
    "confusion(y_test, y_pred)"
   ]
  },
  {
   "cell_type": "code",
   "execution_count": null,
   "id": "4d081b0c",
   "metadata": {},
   "outputs": [],
   "source": [
    "results[\"Random Forest\"] = mean_std_cross_val_scores(\n",
    "    rf_clf, X_train_sm, y_train_sm, return_train_score=True\n",
    ")\n",
    "pd.DataFrame(results).T"
   ]
  },
  {
   "cell_type": "code",
   "execution_count": null,
   "id": "c4ebcb47",
   "metadata": {},
   "outputs": [],
   "source": [
    "from sklearn.model_selection import cross_val_score, cross_validate\n",
    "from sklearn.model_selection import RandomizedSearchCV\n",
    "from sklearn.svm import SVC\n",
    "\n",
    "random_grid = \n",
    "\n",
    "svm_clf = SVC(random_state=12)\n",
    "\n",
    "search = RandomizedSearchCV(svm_clf, scoring='average_precision', cv=10,\n",
    "                            n_iter=10, param_distributions=log_params,\n",
    "                            refit=True, n_jobs=-1)\n",
    "search.fit(X_train_sm, y_train_sm)\n",
    "svm_clf = search.best_estimator_\n",
    "\n",
    "svm_clf_ibd_proba = svm_clf.predict_proba(X_test)[:, 1]\n",
    "\n",
    "y_pred = svm_clf.predict(X_test)\n",
    "print('Accuracy Score:', svm_clf.score(X_test, y_test))\n",
    "print('Prediction:', y_pred)\n",
    "\n",
    "mscore.append(['SVM', svm_clf.score(X_test, y_test)])\n",
    "\n",
    "print(classification_report(y_test, y_pred))\n",
    "confusion(y_test, y_pred)"
   ]
  },
  {
   "cell_type": "code",
   "execution_count": null,
   "id": "d1ec648b",
   "metadata": {},
   "outputs": [],
   "source": [
    "results[\"SVM\"] = mean_std_cross_val_scores(\n",
    "    svm_clf, X_train_sm, y_train_sm, return_train_score=True\n",
    ")\n",
    "pd.DataFrame(results).T"
   ]
  },
  {
   "cell_type": "code",
   "execution_count": null,
   "id": "5505dbd1",
   "metadata": {},
   "outputs": [],
   "source": [
    "from sklearn.model_selection import cross_val_score, cross_validate\n",
    "from sklearn.model_selection import RandomizedSearchCV\n",
    "from sklearn.neighbors import KNeighborsClassifier\n",
    "\n",
    "random_grid = \n",
    "\n",
    "knn_clf = KNeighborsClassifier(random_state=12)\n",
    "\n",
    "search = RandomizedSearchCV(knn_clf, scoring='average_precision', cv=10,\n",
    "                            n_iter=10, param_distributions=log_params,\n",
    "                            refit=True, n_jobs=-1)\n",
    "search.fit(X_train_sm, y_train_sm)\n",
    "knn_clf = search.best_estimator_\n",
    "\n",
    "knn_clf_ibd_proba = knn_clf.predict_proba(X_test)[:, 1]\n",
    "\n",
    "y_pred = knn_clf.predict(X_test)\n",
    "print('Accuracy Score:', knn_clf.score(X_test, y_test))\n",
    "print('Prediction:', y_pred)\n",
    "\n",
    "mscore.append(['KNN', knn_clf.score(X_test, y_test)])\n",
    "\n",
    "print(classification_report(y_test, y_pred))\n",
    "confusion(y_test, y_pred)"
   ]
  },
  {
   "cell_type": "code",
   "execution_count": null,
   "id": "d0199948",
   "metadata": {},
   "outputs": [],
   "source": [
    "results[\"KNN\"] = mean_std_cross_val_scores(\n",
    "    knn_clf, X_train_sm, y_train_sm, return_train_score=True\n",
    ")\n",
    "pd.DataFrame(results).T"
   ]
  },
  {
   "cell_type": "code",
   "execution_count": null,
   "id": "77df43a1",
   "metadata": {},
   "outputs": [],
   "source": [
    "from sklearn.model_selection import cross_val_score, cross_validate\n",
    "from sklearn.model_selection import RandomizedSearchCV\n",
    "from sklearn.naive_bayes import GaussianNB\n",
    "\n",
    "random_grid = \n",
    "\n",
    "nb_clf = GaussianNB(random_state=12)\n",
    "\n",
    "search = RandomizedSearchCV(nb_clf, scoring='average_precision', cv=10,\n",
    "                            n_iter=10, param_distributions=log_params,\n",
    "                            refit=True, n_jobs=-1)\n",
    "search.fit(X_train_sm, y_train_sm)\n",
    "nb_clf = search.best_estimator_\n",
    "\n",
    "nb_clf_ibd_proba = nb_clf.predict_proba(X_test)[:, 1]\n",
    "\n",
    "y_pred = nb_clf.predict(X_test)\n",
    "print('Accuracy Score:', nb_clf.score(X_test, y_test))\n",
    "print('Prediction:', y_pred)\n",
    "\n",
    "mscore.append(['Naive Bayes', nb_clf.score(X_test, y_test)])\n",
    "\n",
    "print(classification_report(y_test, y_pred))\n",
    "confusion(y_test, y_pred)"
   ]
  },
  {
   "cell_type": "code",
   "execution_count": null,
   "id": "38e673ac",
   "metadata": {},
   "outputs": [],
   "source": [
    "results[\"Naive Bayes\"] = mean_std_cross_val_scores(\n",
    "    nb_clf, X_train_sm, y_train_sm, return_train_score=True\n",
    ")\n",
    "pd.DataFrame(results).T"
   ]
  },
  {
   "cell_type": "code",
   "execution_count": null,
   "id": "850d419d",
   "metadata": {},
   "outputs": [],
   "source": [
    "from sklearn.model_selection import cross_val_score, cross_validate\n",
    "from sklearn.model_selection import RandomizedSearchCV\n",
    "from sklearn.ensemble import GradientBoostingClassifier\n",
    "\n",
    "random_grid = \n",
    "\n",
    "gb_clf = GradientBoostingClassifier(random_state=12)\n",
    "\n",
    "search = RandomizedSearchCV(gb_clf, scoring='average_precision', cv=10,\n",
    "                            n_iter=10, param_distributions=log_params,\n",
    "                            refit=True, n_jobs=-1)\n",
    "search.fit(X_train_sm, y_train_sm)\n",
    "gb_clf = search.best_estimator_\n",
    "\n",
    "gb_clf_ibd_proba = gb_clf.predict_proba(X_test)[:, 1]\n",
    "\n",
    "y_pred = gb_clf.predict(X_test)\n",
    "print('Accuracy Score:', gb_clf.score(X_test, y_test))\n",
    "print('Prediction:', y_pred)\n",
    "\n",
    "mscore.append(['Gradient Boosting', gb_clf.score(X_test, y_test)])\n",
    "\n",
    "print(classification_report(y_test, y_pred))\n",
    "confusion(y_test, y_pred)"
   ]
  },
  {
   "cell_type": "code",
   "execution_count": null,
   "id": "ec6adf86",
   "metadata": {},
   "outputs": [],
   "source": [
    "results[\"Gradient Boosting\"] = mean_std_cross_val_scores(\n",
    "    gb_clf, X_train_sm, y_train_sm, return_train_score=True\n",
    ")\n",
    "pd.DataFrame(results).T"
   ]
  },
  {
   "cell_type": "code",
   "execution_count": null,
   "id": "31646b8f",
   "metadata": {},
   "outputs": [],
   "source": [
    "from sklearn.model_selection import cross_val_score, cross_validate\n",
    "from sklearn.model_selection import RandomizedSearchCV\n",
    "from xgboost import XGBClassifier\n",
    "\n",
    "random_grid = \n",
    "\n",
    "xgb_clf = XGBClassifier(random_state=12)\n",
    "\n",
    "search = RandomizedSearchCV(xgb_clf, scoring='average_precision', cv=10,\n",
    "                            n_iter=10, param_distributions=log_params,\n",
    "                            refit=True, n_jobs=-1)\n",
    "search.fit(X_train_sm, y_train_sm)\n",
    "xgb_clf = search.best_estimator_\n",
    "\n",
    "xgb_clf_ibd_proba = xgb_clf.predict_proba(X_test)[:, 1]\n",
    "\n",
    "y_pred = xgb_clf.predict(X_test)\n",
    "print('Accuracy Score:', xgb_clf.score(X_test, y_test))\n",
    "print('Prediction:', y_pred)\n",
    "\n",
    "mscore.append(['XGBoost', xgb_clf.score(X_test, y_test)])\n",
    "\n",
    "print(classification_report(y_test, y_pred))\n",
    "confusion(y_test, y_pred)"
   ]
  },
  {
   "cell_type": "code",
   "execution_count": null,
   "id": "02fde4a3",
   "metadata": {},
   "outputs": [],
   "source": [
    "results[\"XGBoost\"] = mean_std_cross_val_scores(\n",
    "    xgb_clf, X_train_sm, y_train_sm, return_train_score=True\n",
    ")\n",
    "pd.DataFrame(results).T"
   ]
  },
  {
   "cell_type": "code",
   "execution_count": null,
   "id": "aa3db6e1",
   "metadata": {},
   "outputs": [],
   "source": [
    "from sklearn.model_selection import cross_val_score, cross_validate\n",
    "from sklearn.model_selection import RandomizedSearchCV\n",
    "from sklearn.neural_network import MLPClassifier\n",
    "\n",
    "random_grid = \n",
    "\n",
    "mlp_clf = MLPClassifier(random_state=12)\n",
    "\n",
    "search = RandomizedSearchCV(mlp_clf, scoring='average_precision', cv=10,\n",
    "                            n_iter=10, param_distributions=log_params,\n",
    "                            refit=True, n_jobs=-1)\n",
    "search.fit(X_train_sm, y_train_sm)\n",
    "mlp_clf = search.best_estimator_\n",
    "\n",
    "mlp_clf_ibd_proba = mlp_clf.predict_proba(X_test)[:, 1]\n",
    "\n",
    "y_pred = mlp_clf.predict(X_test)\n",
    "print('Accuracy Score:', mlp_clf.score(X_test, y_test))\n",
    "print('Prediction:', y_pred)\n",
    "\n",
    "mscore.append(['MLP', mlp_clf.score(X_test, y_test)])\n",
    "\n",
    "print(classification_report(y_test, y_pred))\n",
    "confusion(y_test, y_pred)"
   ]
  },
  {
   "cell_type": "code",
   "execution_count": null,
   "id": "3511ed5e",
   "metadata": {},
   "outputs": [],
   "source": [
    "results[\"MLP\"] = mean_std_cross_val_scores(\n",
    "    mlp_clf, X_train_sm, y_train_sm, return_train_score=True\n",
    ")\n",
    "pd.DataFrame(results).T"
   ]
  },
  {
   "cell_type": "code",
   "execution_count": null,
   "id": "436e02dc",
   "metadata": {},
   "outputs": [],
   "source": [
    "mscore.sort(key=lambda x: x[1], reverse=True)\n",
    "mscore"
   ]
  },
  {
   "cell_type": "code",
   "execution_count": null,
   "id": "c2df50e0",
   "metadata": {},
   "outputs": [],
   "source": [
    "model = list(i[0] for i in mscore)\n",
    "score = list(round(i[1]*100,2) for i in mscore)\n",
    "\n",
    "print('Accracy Score: \\n')\n",
    "for m,s in zip(model, score):\n",
    "    print(f'{m}: {s}%')\n",
    "  \n",
    " \n",
    "# creating horizontal bar plot\n",
    "plt.barh(model, score, height = 0.5, color='#4B4E6D') # this color is called independence, how cool!\n",
    " \n",
    "plt.xlabel(\"Accuracy Score\")\n",
    "plt.ylabel(\"Model\")\n",
    "plt.title(\"Model Comparison\")\n",
    "plt.gca().invert_yaxis()\n",
    "plt.show()"
   ]
  },
  {
   "cell_type": "code",
   "execution_count": null,
   "id": "a4ad12c4",
   "metadata": {},
   "outputs": [],
   "source": [
    "rf_prediction_proba = rnd_clf.predict_proba(X_test)[:, 1]\n",
    "def roc_curve_and_score(y_test, pred_proba):\n",
    "    fpr, tpr, _ = roc_curve(y_test.ravel(), pred_proba.ravel())\n",
    "    roc_auc = roc_auc_score(y_test.ravel(), pred_proba.ravel())\n",
    "    return fpr, tpr, roc_auc\n",
    "\n",
    "from sklearn.metrics import roc_auc_score, roc_curve\n",
    "import matplotlib\n",
    "import matplotlib.pyplot as plt\n",
    "plt.figure(figsize=(9, 7))\n",
    "matplotlib.rcParams.update({'font.size': 15})\n",
    "plt.grid()\n",
    "fpr, tpr, roc_auc = roc_curve_and_score(y_test, rf_prediction_proba)\n",
    "plt.plot(fpr, tpr, color='darkorange', lw=2,\n",
    "         label='Random Forest={0:.3f}'.format(roc_auc))\n",
    "fpr, tpr, roc_auc = roc_curve_and_score(y_test, gbc_prediction_proba)\n",
    "plt.plot(fpr, tpr, color='green', lw=2,\n",
    "         label='Gradient Boosting={0:.3f}'.format(roc_auc))\n",
    "fpr, tpr, roc_auc = roc_curve_and_score(y_test, kn_prediction_proba)\n",
    "plt.plot(fpr, tpr, color='purple', lw=2,\n",
    "         label='Bagging KNeighbors={0:.3f}'.format(roc_auc))\n",
    "fpr, tpr, roc_auc = roc_curve_and_score(y_test, bdt_prediction_proba)\n",
    "plt.plot(fpr, tpr, color='sienna', lw=2,\n",
    "         label='Bagging Decision Tree={0:.3f}'.format(roc_auc))\n",
    "fpr, tpr, roc_auc = roc_curve_and_score(y_test, mlp_prediction_proba)\n",
    "plt.plot(fpr, tpr, color='blue', lw=2,\n",
    "         label='MLP={0:.3f}'.format(roc_auc))\n",
    "fpr, tpr, roc_auc = roc_curve_and_score(y_test, clf_prediction_proba)\n",
    "plt.plot(fpr, tpr, color='crimson', lw=2,\n",
    "         label='Logistic Regression={0:.3f}'.format(roc_auc))\n",
    "\n",
    "plt.plot([0, 1], [0, 1], color='navy', lw=1, linestyle='--')\n",
    "plt.legend(loc=\"lower right\")\n",
    "plt.xlim([0.0, 1.0])\n",
    "plt.ylim([0.0, 1.05])\n",
    "plt.xlabel('1 - Specificity')\n",
    "plt.ylabel('Sensitivity')\n",
    "plt.show()"
   ]
  }
 ],
 "metadata": {
  "kernelspec": {
   "display_name": "Python 3 (ipykernel)",
   "language": "python",
   "name": "python3"
  },
  "language_info": {
   "codemirror_mode": {
    "name": "ipython",
    "version": 3
   },
   "file_extension": ".py",
   "mimetype": "text/x-python",
   "name": "python",
   "nbconvert_exporter": "python",
   "pygments_lexer": "ipython3",
   "version": "3.9.12"
  }
 },
 "nbformat": 4,
 "nbformat_minor": 5
}
