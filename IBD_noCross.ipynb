{
 "cells": [
  {
   "cell_type": "code",
   "execution_count": 1,
   "id": "90061ee5",
   "metadata": {
    "scrolled": true
   },
   "outputs": [
    {
     "name": "stdout",
     "output_type": "stream",
     "text": [
      "Requirement already satisfied: xgboost in /Users/zhiyi/opt/anaconda3/lib/python3.9/site-packages (1.7.2)\n",
      "Requirement already satisfied: numpy in /Users/zhiyi/opt/anaconda3/lib/python3.9/site-packages (from xgboost) (1.21.5)\n",
      "Requirement already satisfied: scipy in /Users/zhiyi/opt/anaconda3/lib/python3.9/site-packages (from xgboost) (1.7.3)\n",
      "Requirement already satisfied: imblearn in /Users/zhiyi/opt/anaconda3/lib/python3.9/site-packages (0.0)\n",
      "Requirement already satisfied: imbalanced-learn in /Users/zhiyi/opt/anaconda3/lib/python3.9/site-packages (from imblearn) (0.10.0)\n",
      "Requirement already satisfied: scikit-learn>=1.0.2 in /Users/zhiyi/opt/anaconda3/lib/python3.9/site-packages (from imbalanced-learn->imblearn) (1.0.2)\n",
      "Requirement already satisfied: threadpoolctl>=2.0.0 in /Users/zhiyi/opt/anaconda3/lib/python3.9/site-packages (from imbalanced-learn->imblearn) (2.2.0)\n",
      "Requirement already satisfied: scipy>=1.3.2 in /Users/zhiyi/opt/anaconda3/lib/python3.9/site-packages (from imbalanced-learn->imblearn) (1.7.3)\n",
      "Requirement already satisfied: numpy>=1.17.3 in /Users/zhiyi/opt/anaconda3/lib/python3.9/site-packages (from imbalanced-learn->imblearn) (1.21.5)\n",
      "Requirement already satisfied: joblib>=1.1.1 in /Users/zhiyi/opt/anaconda3/lib/python3.9/site-packages (from imbalanced-learn->imblearn) (1.2.0)\n"
     ]
    }
   ],
   "source": [
    "import sys\n",
    "!{sys.executable} -m pip install xgboost\n",
    "!{sys.executable} -m pip install imblearn"
   ]
  },
  {
   "cell_type": "code",
   "execution_count": 2,
   "id": "de6eb46a",
   "metadata": {},
   "outputs": [],
   "source": [
    "import sklearn\n",
    "import pandas as pd\n",
    "import numpy as np\n",
    "import matplotlib.pyplot as plt\n",
    "import seaborn as sns"
   ]
  },
  {
   "cell_type": "code",
   "execution_count": 3,
   "id": "39917f7f",
   "metadata": {
    "scrolled": true
   },
   "outputs": [
    {
     "name": "stdout",
     "output_type": "stream",
     "text": [
      "      sex  location  nutrition  reason  past_diagnosis  diagnosis  polyp_loca  \\\n",
      "0       1         3          2       1               4          1           1   \n",
      "1       1         3          2       1               4          1           1   \n",
      "2       1         2          2       1               4          3           2   \n",
      "3       2         1          2       1               4          3           2   \n",
      "4       1         2          2       1               4          1           1   \n",
      "...   ...       ...        ...     ...             ...        ...         ...   \n",
      "2664    1         1          2       1               4          1           1   \n",
      "2665    1         1          2       1               2          2           2   \n",
      "2666    2         2          2       1               4          3           3   \n",
      "2667    1         1          2       1               4          1           1   \n",
      "2668    1         2          2       1               4          2           2   \n",
      "\n",
      "      polyp_size  polyp_num  polyp_shape  polyp_state  pathology  age_group  \\\n",
      "0              1          2            3            1          1          5   \n",
      "1              1          2            3            1          1          4   \n",
      "2              1          1            1            1          1          3   \n",
      "3              1          1            1            1          1          3   \n",
      "4              1          1            1            1          1          4   \n",
      "...          ...        ...          ...          ...        ...        ...   \n",
      "2664           4          1            3            1          6          4   \n",
      "2665           4          1            3            1          6          5   \n",
      "2666           4          1            3            1          6          4   \n",
      "2667           4          1            3            1          6          3   \n",
      "2668           1          1            3            1          2          4   \n",
      "\n",
      "      intussusception\\n  \n",
      "0                     0  \n",
      "1                     0  \n",
      "2                     0  \n",
      "3                     0  \n",
      "4                     0  \n",
      "...                 ...  \n",
      "2664                  0  \n",
      "2665                  0  \n",
      "2666                  0  \n",
      "2667                  0  \n",
      "2668                  0  \n",
      "\n",
      "[2669 rows x 14 columns]\n"
     ]
    }
   ],
   "source": [
    "c = pd.read_excel('polyp_data v2.xlsx')\n",
    "print(c)"
   ]
  },
  {
   "cell_type": "code",
   "execution_count": 4,
   "id": "ee17fe4a",
   "metadata": {
    "scrolled": true
   },
   "outputs": [
    {
     "name": "stdout",
     "output_type": "stream",
     "text": [
      "      sex  location  nutrition  reason  past_diagnosis  diagnosis  polyp_loca  \\\n",
      "0       1         3          2       1               4          1           1   \n",
      "1       1         3          2       1               4          1           1   \n",
      "2       1         2          2       1               4          3           2   \n",
      "3       2         1          2       1               4          3           2   \n",
      "4       1         2          2       1               4          1           1   \n",
      "...   ...       ...        ...     ...             ...        ...         ...   \n",
      "2664    1         1          2       1               4          1           1   \n",
      "2665    1         1          2       1               2          2           2   \n",
      "2666    2         2          2       1               4          3           3   \n",
      "2667    1         1          2       1               4          1           1   \n",
      "2668    1         2          2       1               4          2           2   \n",
      "\n",
      "      polyp_size  polyp_num  polyp_shape  polyp_state  pathology  age_group  \\\n",
      "0              1          2            3            1          1          5   \n",
      "1              1          2            3            1          1          4   \n",
      "2              1          1            1            1          1          3   \n",
      "3              1          1            1            1          1          3   \n",
      "4              1          1            1            1          1          4   \n",
      "...          ...        ...          ...          ...        ...        ...   \n",
      "2664           4          1            3            1          6          4   \n",
      "2665           4          1            3            1          6          5   \n",
      "2666           4          1            3            1          6          4   \n",
      "2667           4          1            3            1          6          3   \n",
      "2668           1          1            3            1          2          4   \n",
      "\n",
      "      intussusception  \n",
      "0                   0  \n",
      "1                   0  \n",
      "2                   0  \n",
      "3                   0  \n",
      "4                   0  \n",
      "...               ...  \n",
      "2664                0  \n",
      "2665                0  \n",
      "2666                0  \n",
      "2667                0  \n",
      "2668                0  \n",
      "\n",
      "[2669 rows x 14 columns]\n"
     ]
    }
   ],
   "source": [
    "d = c.iloc[:, 0:14]\n",
    "d.columns = d.columns.str.strip()\n",
    "print(d)"
   ]
  },
  {
   "cell_type": "code",
   "execution_count": 5,
   "id": "b2a0ebe2",
   "metadata": {},
   "outputs": [
    {
     "data": {
      "text/plain": [
       "<AxesSubplot:>"
      ]
     },
     "execution_count": 5,
     "metadata": {},
     "output_type": "execute_result"
    },
    {
     "data": {
      "image/png": "[encoded data removed]",
      "text/plain": [
       "<Figure size 792x792 with 2 Axes>"
      ]
     },
     "metadata": {
      "needs_background": "light"
     },
     "output_type": "display_data"
    }
   ],
   "source": [
    "# sns.axes_style(\"white\")\n",
    "ax = plt.subplots(figsize=(11,11))\n",
    "\n",
    "corr = d.corr()\n",
    "\n",
    "#sns.heatmap(corr, vmin=-1, vmax=1, cmap=sns.cm.rocket_r)\n",
    "sns.heatmap(corr, cmap=sns.cm.rocket_r)"
   ]
  },
  {
   "cell_type": "code",
   "execution_count": 6,
   "id": "d71fccba",
   "metadata": {},
   "outputs": [
    {
     "data": {
      "image/png": "[encoded data removed]",
      "text/plain": [
       "<Figure size 576x432 with 1 Axes>"
      ]
     },
     "metadata": {
      "needs_background": "light"
     },
     "output_type": "display_data"
    }
   ],
   "source": [
    "vals = d.intussusception.value_counts()\n",
    "\n",
    "plt.figure(figsize=(8,6))\n",
    "plt.rc('font', size=12)\n",
    "\n",
    "ax = vals.plot.bar(rot=0, color='#4B4E6D')\n",
    "\n",
    "for i in range(len(vals)):\n",
    "    ax.annotate(vals[i], xy=[vals.index[i], vals[i]], ha='center', va='bottom')"
   ]
  },
  {
   "cell_type": "code",
   "execution_count": 7,
   "id": "5ffdce4d",
   "metadata": {},
   "outputs": [
    {
     "name": "stdout",
     "output_type": "stream",
     "text": [
      "X shape: (2669, 13)\n",
      "y shape: (2669,)\n"
     ]
    }
   ],
   "source": [
    "X = d.loc[:, d.columns != 'intussusception']\n",
    "y = d.intussusception\n",
    "print('X shape:', X.shape)\n",
    "print('y shape:', y.shape)"
   ]
  },
  {
   "cell_type": "code",
   "execution_count": 8,
   "id": "a815d6e7",
   "metadata": {},
   "outputs": [],
   "source": [
    "from sklearn.model_selection import train_test_split\n",
    "X_train, X_test, y_train, y_test = train_test_split(X, y, test_size=0.2, random_state=12)"
   ]
  },
  {
   "cell_type": "code",
   "execution_count": 9,
   "id": "df6e802f",
   "metadata": {},
   "outputs": [
    {
     "name": "stdout",
     "output_type": "stream",
     "text": [
      "Accuracy: 92.13%\n",
      "Confusion Matrix:\n",
      "         Predict[0]  Predict[1]\n",
      "True[0]         455           7\n",
      "True[1]          35          37\n"
     ]
    },
    {
     "data": {
      "text/html": [
       "<div>\n",
       "<style scoped>\n",
       "    .dataframe tbody tr th:only-of-type {\n",
       "        vertical-align: middle;\n",
       "    }\n",
       "\n",
       "    .dataframe tbody tr th {\n",
       "        vertical-align: top;\n",
       "    }\n",
       "\n",
       "    .dataframe thead th {\n",
       "        text-align: right;\n",
       "    }\n",
       "</style>\n",
       "<table border=\"1\" class=\"dataframe\">\n",
       "  <thead>\n",
       "    <tr style=\"text-align: right;\">\n",
       "      <th></th>\n",
       "      <th>Predict[0]</th>\n",
       "      <th>Predict[1]</th>\n",
       "    </tr>\n",
       "  </thead>\n",
       "  <tbody>\n",
       "    <tr>\n",
       "      <th>True[0]</th>\n",
       "      <td>455</td>\n",
       "      <td>7</td>\n",
       "    </tr>\n",
       "    <tr>\n",
       "      <th>True[1]</th>\n",
       "      <td>35</td>\n",
       "      <td>37</td>\n",
       "    </tr>\n",
       "  </tbody>\n",
       "</table>\n",
       "</div>"
      ],
      "text/plain": [
       "         Predict[0]  Predict[1]\n",
       "True[0]         455           7\n",
       "True[1]          35          37"
      ]
     },
     "execution_count": 9,
     "metadata": {},
     "output_type": "execute_result"
    }
   ],
   "source": [
    "from xgboost import XGBClassifier\n",
    "from sklearn.metrics import classification_report, accuracy_score, confusion_matrix\n",
    "\n",
    "model = XGBClassifier()\n",
    "model.fit(X_train, y_train)\n",
    "y_pred = model.predict(X_test)\n",
    "\n",
    "accuracy = accuracy_score(y_test, y_pred)\n",
    "print(\"Accuracy: %.2f%%\" % (accuracy * 100.0))\n",
    "\n",
    "def confusion(y_test, y_pred):\n",
    "    conf = pd.DataFrame(confusion_matrix(y_test, y_pred), index=['True[0]', 'True[1]'], columns=['Predict[0]', 'Predict[1]'])\n",
    "    print('Confusion Matrix:')\n",
    "    print(conf)\n",
    "    return conf\n",
    "\n",
    "confusion(y_test, y_pred) "
   ]
  },
  {
   "cell_type": "code",
   "execution_count": 10,
   "id": "418d88ec",
   "metadata": {},
   "outputs": [
    {
     "name": "stdout",
     "output_type": "stream",
     "text": [
      "0    1861\n",
      "1    1861\n",
      "Name: intussusception, dtype: int64\n",
      "0    462\n",
      "1    462\n",
      "Name: intussusception, dtype: int64\n"
     ]
    }
   ],
   "source": [
    "from imblearn.over_sampling import SMOTE\n",
    "\n",
    "smote = SMOTE(random_state=12)\n",
    "X_train_sm, y_train_sm = smote.fit_resample(X_train, y_train)\n",
    "X_test_sm, y_test_sm = smote.fit_resample(X_test, y_test)\n",
    "\n",
    "X_train_sm = pd.DataFrame(X_train_sm, columns=X.columns)\n",
    "X_test_sm = pd.DataFrame(X_test_sm, columns=X.columns)\n",
    "\n",
    "print(y_train_sm.value_counts())\n",
    "print(y_test_sm.value_counts())"
   ]
  },
  {
   "cell_type": "code",
   "execution_count": 11,
   "id": "9030d9a9",
   "metadata": {},
   "outputs": [
    {
     "name": "stdout",
     "output_type": "stream",
     "text": [
      "Accuracy: 82.36%\n"
     ]
    },
    {
     "data": {
      "text/html": [
       "<div>\n",
       "<style scoped>\n",
       "    .dataframe tbody tr th:only-of-type {\n",
       "        vertical-align: middle;\n",
       "    }\n",
       "\n",
       "    .dataframe tbody tr th {\n",
       "        vertical-align: top;\n",
       "    }\n",
       "\n",
       "    .dataframe thead th {\n",
       "        text-align: right;\n",
       "    }\n",
       "</style>\n",
       "<table border=\"1\" class=\"dataframe\">\n",
       "  <thead>\n",
       "    <tr style=\"text-align: right;\">\n",
       "      <th></th>\n",
       "      <th>Predict[0]</th>\n",
       "      <th>Predict[1]</th>\n",
       "    </tr>\n",
       "  </thead>\n",
       "  <tbody>\n",
       "    <tr>\n",
       "      <th>True[0]</th>\n",
       "      <td>405</td>\n",
       "      <td>57</td>\n",
       "    </tr>\n",
       "    <tr>\n",
       "      <th>True[1]</th>\n",
       "      <td>106</td>\n",
       "      <td>356</td>\n",
       "    </tr>\n",
       "  </tbody>\n",
       "</table>\n",
       "</div>"
      ],
      "text/plain": [
       "         Predict[0]  Predict[1]\n",
       "True[0]         405          57\n",
       "True[1]         106         356"
      ]
     },
     "execution_count": 11,
     "metadata": {},
     "output_type": "execute_result"
    }
   ],
   "source": [
    "# After oversampling, the classification result is more reasonable.\n",
    "model = XGBClassifier()\n",
    "model.fit(X_train_sm, y_train_sm)\n",
    "y_pred_sm = model.predict(X_test_sm)\n",
    "\n",
    "accuracy = accuracy_score(y_test_sm, y_pred_sm)\n",
    "print(\"Accuracy: %.2f%%\" % (accuracy * 100.0))\n",
    "conf = pd.DataFrame(confusion_matrix(y_test_sm, y_pred_sm), index=['True[0]', 'True[1]'], columns=['Predict[0]', 'Predict[1]'])\n",
    "conf"
   ]
  },
  {
   "cell_type": "code",
   "execution_count": 12,
   "id": "c30923fb",
   "metadata": {},
   "outputs": [],
   "source": [
    "from sklearn.model_selection import train_test_split \n",
    "X_train, X_test, y_train, y_test = train_test_split(X, y, test_size=0.2, random_state=12)"
   ]
  },
  {
   "cell_type": "code",
   "execution_count": 13,
   "id": "bffbda4e",
   "metadata": {},
   "outputs": [],
   "source": [
    "from imblearn.over_sampling import SMOTE\n",
    "\n",
    "smote = SMOTE(random_state=12)\n",
    "X_train_sm, y_train_sm = smote.fit_resample(X_train, y_train)\n",
    "#X_test_sm, y_test_sm = smote.fit_sample(X_test, y_test)\n",
    "\n",
    "X_train_sm = pd.DataFrame(X_train_sm, columns=X.columns)\n",
    "#X_test_sm = pd.DataFrame(X_test_sm, columns=X.columns)"
   ]
  },
  {
   "cell_type": "code",
   "execution_count": 14,
   "id": "bb71635e",
   "metadata": {
    "scrolled": true
   },
   "outputs": [
    {
     "name": "stdout",
     "output_type": "stream",
     "text": [
      "X train shape:  (3722, 13)\n",
      "y train values: \n",
      " 0    1861\n",
      "1    1861\n",
      "Name: intussusception, dtype: int64\n",
      "\n",
      "X test shape:  (924, 13)\n",
      "y test values: \n",
      " 0    462\n",
      "1    462\n",
      "Name: intussusception, dtype: int64\n"
     ]
    }
   ],
   "source": [
    "print('X train shape: ',X_train_sm.shape)\n",
    "print('y train values: \\n', y_train_sm.value_counts())\n",
    "print()\n",
    "print('X test shape: ',X_test_sm.shape)\n",
    "print('y test values: \\n', y_test_sm.value_counts())"
   ]
  },
  {
   "cell_type": "code",
   "execution_count": 15,
   "id": "e3c0942d",
   "metadata": {},
   "outputs": [],
   "source": [
    "mscore=[]"
   ]
  },
  {
   "cell_type": "code",
   "execution_count": 16,
   "id": "b31dd7fe",
   "metadata": {},
   "outputs": [
    {
     "name": "stdout",
     "output_type": "stream",
     "text": [
      "0.21924900000000136\n",
      "Accuracy Score: 0.7359550561797753\n",
      "Prediction: [0 0 0 0 0 0 0 0 1 1 0 0 0 1 0 1 0 0 1 0 1 0 0 0 1 0 0 0 0 1 0 1 0 1 0 0 0\n",
      " 0 1 1 0 0 0 1 1 1 0 1 0 1 0 0 0 1 1 1 0 0 1 0 0 0 0 0 0 0 0 0 1 1 0 0 0 0\n",
      " 1 0 0 0 1 0 1 0 0 1 0 0 0 0 0 0 1 0 0 0 0 0 0 0 0 1 0 0 0 1 0 0 0 0 0 0 0\n",
      " 1 0 0 0 0 1 1 0 1 0 0 0 1 0 1 0 0 0 0 0 1 0 0 1 0 0 0 0 0 0 0 0 1 0 1 1 1\n",
      " 0 1 0 0 0 0 0 0 1 0 0 1 1 0 1 0 0 1 1 0 0 1 0 0 0 1 0 0 0 0 1 0 0 0 0 1 0\n",
      " 0 1 1 0 0 0 0 0 0 0 1 1 0 1 0 0 0 0 0 1 1 0 1 1 0 0 1 0 1 0 0 0 0 1 0 0 0\n",
      " 0 0 0 0 0 1 1 0 1 0 0 1 0 0 0 1 0 1 1 0 1 0 1 0 0 0 0 0 0 1 0 0 0 0 0 0 1\n",
      " 1 1 0 1 0 0 1 0 0 0 0 0 0 0 0 0 1 0 0 0 0 0 0 0 0 1 1 0 1 0 0 0 0 1 1 0 0\n",
      " 0 0 0 0 0 1 1 1 0 0 0 1 0 0 0 1 1 0 1 1 1 0 0 1 0 0 1 0 0 0 0 0 0 0 1 0 1\n",
      " 0 0 0 0 0 1 0 0 1 1 0 0 0 0 0 1 0 1 1 0 1 1 1 0 0 1 0 1 1 0 0 0 0 0 1 1 1\n",
      " 1 1 0 0 0 0 0 0 0 0 1 1 1 0 1 0 0 0 1 0 0 0 0 1 0 0 0 0 0 0 0 1 0 0 0 0 1\n",
      " 0 0 0 0 0 1 0 0 1 1 0 0 0 0 0 1 0 0 0 0 0 0 1 0 1 1 1 0 0 0 0 0 0 0 0 0 0\n",
      " 0 1 1 0 0 0 0 0 0 0 0 1 0 0 0 0 1 0 0 1 1 1 0 0 0 1 1 0 0 0 0 1 1 0 1 1 1\n",
      " 1 0 0 0 0 0 0 0 1 1 0 0 1 0 0 0 0 0 0 0 0 0 1 0 1 0 0 0 0 1 0 0 1 0 0 0 0\n",
      " 0 0 0 0 0 0 0 0 1 1 0 0 0 1 0 0]\n",
      "              precision    recall  f1-score   support\n",
      "\n",
      "           0       0.93      0.76      0.83       462\n",
      "           1       0.28      0.61      0.38        72\n",
      "\n",
      "    accuracy                           0.74       534\n",
      "   macro avg       0.60      0.68      0.61       534\n",
      "weighted avg       0.84      0.74      0.77       534\n",
      "\n",
      "Confusion Matrix:\n",
      "         Predict[0]  Predict[1]\n",
      "True[0]         349         113\n",
      "True[1]          28          44\n"
     ]
    },
    {
     "name": "stderr",
     "output_type": "stream",
     "text": [
      "/Users/zhiyi/opt/anaconda3/lib/python3.9/site-packages/sklearn/linear_model/_logistic.py:814: ConvergenceWarning: lbfgs failed to converge (status=1):\n",
      "STOP: TOTAL NO. of ITERATIONS REACHED LIMIT.\n",
      "\n",
      "Increase the number of iterations (max_iter) or scale the data as shown in:\n",
      "    https://scikit-learn.org/stable/modules/preprocessing.html\n",
      "Please also refer to the documentation for alternative solver options:\n",
      "    https://scikit-learn.org/stable/modules/linear_model.html#logistic-regression\n",
      "  n_iter_i = _check_optimize_result(\n"
     ]
    },
    {
     "data": {
      "text/html": [
       "<div>\n",
       "<style scoped>\n",
       "    .dataframe tbody tr th:only-of-type {\n",
       "        vertical-align: middle;\n",
       "    }\n",
       "\n",
       "    .dataframe tbody tr th {\n",
       "        vertical-align: top;\n",
       "    }\n",
       "\n",
       "    .dataframe thead th {\n",
       "        text-align: right;\n",
       "    }\n",
       "</style>\n",
       "<table border=\"1\" class=\"dataframe\">\n",
       "  <thead>\n",
       "    <tr style=\"text-align: right;\">\n",
       "      <th></th>\n",
       "      <th>Predict[0]</th>\n",
       "      <th>Predict[1]</th>\n",
       "    </tr>\n",
       "  </thead>\n",
       "  <tbody>\n",
       "    <tr>\n",
       "      <th>True[0]</th>\n",
       "      <td>349</td>\n",
       "      <td>113</td>\n",
       "    </tr>\n",
       "    <tr>\n",
       "      <th>True[1]</th>\n",
       "      <td>28</td>\n",
       "      <td>44</td>\n",
       "    </tr>\n",
       "  </tbody>\n",
       "</table>\n",
       "</div>"
      ],
      "text/plain": [
       "         Predict[0]  Predict[1]\n",
       "True[0]         349         113\n",
       "True[1]          28          44"
      ]
     },
     "execution_count": 16,
     "metadata": {},
     "output_type": "execute_result"
    }
   ],
   "source": [
    "from sklearn.linear_model import LogisticRegression\n",
    "from time import process_time\n",
    "\n",
    "clf = LogisticRegression(max_iter=100, solver='lbfgs', class_weight='balanced', random_state=12)\n",
    "\n",
    "start = process_time()\n",
    "clf.fit(X_train_sm, y_train_sm)\n",
    "end = process_time()\n",
    "print(end - start)\n",
    "\n",
    "clf_prediction_proba = clf.predict_proba(X_test)[:, 1]\n",
    "\n",
    "y_pred = clf.predict(X_test)\n",
    "\n",
    "print('Accuracy Score:', clf.score(X_test, y_test))\n",
    "print('Prediction:', y_pred)\n",
    "\n",
    "mscore.append(['Logistic Regression', clf.score(X_test, y_test)])\n",
    "\n",
    "print(classification_report(y_test, y_pred))\n",
    "confusion(y_test, y_pred)"
   ]
  },
  {
   "cell_type": "code",
   "execution_count": 17,
   "id": "7f1e52be",
   "metadata": {
    "scrolled": true
   },
   "outputs": [
    {
     "name": "stdout",
     "output_type": "stream",
     "text": [
      "0.5659159999999996\n",
      "Accuracy Score: 0.8520599250936329\n",
      "Prediction: [0 1 0 0 0 0 0 0 0 1 0 0 0 0 0 0 0 0 1 0 1 0 0 1 1 0 0 0 0 1 1 1 0 0 0 0 1\n",
      " 0 1 1 0 1 0 0 0 0 0 0 0 1 0 1 0 0 0 1 0 0 1 1 0 0 0 0 0 0 0 0 0 1 0 0 0 0\n",
      " 0 0 0 0 0 0 1 0 0 0 0 0 0 0 0 0 1 1 0 1 0 0 0 0 0 0 0 0 0 1 0 0 0 0 0 0 0\n",
      " 0 0 0 0 0 1 1 0 0 0 0 0 0 0 0 0 0 0 0 0 0 0 0 0 0 0 0 0 0 0 1 0 1 0 0 0 1\n",
      " 1 1 0 0 0 0 0 0 0 1 1 0 0 0 1 0 1 0 0 0 0 0 0 0 0 1 0 0 0 0 1 0 0 0 0 1 0\n",
      " 0 0 0 0 0 0 0 0 1 0 0 0 0 0 0 0 0 0 0 1 0 0 0 1 0 1 0 0 0 0 0 0 0 0 0 0 0\n",
      " 0 0 0 0 0 1 1 1 0 0 0 0 0 0 0 1 0 1 1 0 1 0 0 0 0 0 1 0 0 0 0 0 0 0 1 0 1\n",
      " 1 0 0 1 1 0 1 0 0 0 0 0 0 0 0 0 0 0 0 0 0 0 0 0 0 1 0 0 0 0 0 0 1 0 1 0 0\n",
      " 0 0 0 0 0 0 0 0 1 0 0 0 0 0 0 1 0 0 0 0 0 0 0 1 0 0 1 0 0 0 0 0 0 0 0 0 0\n",
      " 0 0 0 0 0 0 0 0 0 0 1 0 0 0 0 0 1 0 1 0 0 1 0 0 1 0 0 0 1 0 1 0 0 1 0 0 1\n",
      " 0 1 0 0 0 0 0 0 0 0 1 1 0 0 0 0 0 1 1 1 1 0 0 0 0 0 1 1 1 0 0 1 0 0 0 0 0\n",
      " 0 1 0 0 0 1 0 0 1 0 0 0 0 0 0 1 0 0 0 0 0 0 1 0 0 0 0 1 1 0 0 0 0 0 0 0 0\n",
      " 0 1 1 0 0 0 0 1 0 0 1 0 0 0 0 0 0 0 0 0 1 1 0 0 0 0 0 0 0 0 0 0 1 0 1 0 0\n",
      " 0 1 0 0 0 0 0 0 1 1 0 0 0 0 0 0 0 0 1 0 0 0 0 0 0 0 0 0 0 0 0 0 0 0 0 0 0\n",
      " 0 0 0 0 0 0 0 0 1 1 0 0 0 1 0 0]\n",
      "              precision    recall  f1-score   support\n",
      "\n",
      "           0       0.95      0.88      0.91       462\n",
      "           1       0.47      0.68      0.55        72\n",
      "\n",
      "    accuracy                           0.85       534\n",
      "   macro avg       0.71      0.78      0.73       534\n",
      "weighted avg       0.88      0.85      0.86       534\n",
      "\n",
      "Confusion Matrix:\n",
      "         Predict[0]  Predict[1]\n",
      "True[0]         406          56\n",
      "True[1]          23          49\n",
      "          Variable  Importance\n",
      "7       polyp_size    0.222973\n",
      "9      polyp_shape    0.180157\n",
      "4   past_diagnosis    0.169085\n",
      "6       polyp_loca    0.082962\n",
      "12       age_group    0.073786\n",
      "1         location    0.072397\n",
      "5        diagnosis    0.065996\n",
      "8        polyp_num    0.033843\n",
      "0              sex    0.033392\n",
      "3           reason    0.030379\n",
      "2        nutrition    0.017267\n",
      "10     polyp_state    0.015140\n",
      "11       pathology    0.002624\n"
     ]
    }
   ],
   "source": [
    "from sklearn.ensemble import RandomForestClassifier\n",
    "from time import process_time\n",
    "\n",
    "rnd_clf = RandomForestClassifier(n_estimators=100, criterion='gini', random_state=12)\n",
    "\n",
    "start = process_time()\n",
    "model = rnd_clf.fit(X_train_sm, y_train_sm)\n",
    "end = process_time()\n",
    "print(end - start)\n",
    "\n",
    "rf_prediction_proba = rnd_clf.predict_proba(X_test)[:, 1]\n",
    "\n",
    "y_pred = rnd_clf.predict(X_test)\n",
    "\n",
    "print('Accuracy Score:', rnd_clf.score(X_test, y_test))\n",
    "print('Prediction:', y_pred)\n",
    "\n",
    "mscore.append(['Random Forest', rnd_clf.score(X_test, y_test)])\n",
    "\n",
    "print(classification_report(y_test, y_pred))\n",
    "confusion(y_test, y_pred)\n",
    "print(pd.DataFrame({'Variable':X.columns,\n",
    "              'Importance':model.feature_importances_}).sort_values('Importance', ascending=False))"
   ]
  },
  {
   "cell_type": "code",
   "execution_count": 18,
   "id": "db748b06",
   "metadata": {},
   "outputs": [
    {
     "name": "stdout",
     "output_type": "stream",
     "text": [
      "0.0855080000000008\n",
      "Accuracy Score: 0.8389513108614233\n",
      "Prediction: [0 1 0 0 0 0 0 0 0 1 0 0 0 1 0 0 0 0 1 0 1 0 0 1 1 0 0 0 0 1 1 1 0 0 0 0 0\n",
      " 0 1 1 0 1 0 0 0 0 0 0 0 1 0 1 0 0 0 1 0 0 1 1 0 0 0 0 0 0 0 0 0 1 0 0 0 0\n",
      " 0 0 0 0 0 0 1 0 0 0 0 0 0 0 0 0 1 1 0 1 0 0 0 0 0 0 0 0 0 1 0 0 0 0 0 0 0\n",
      " 0 0 0 0 0 1 1 0 0 0 0 0 0 0 0 0 0 0 0 0 0 0 0 0 0 0 0 0 0 0 1 0 1 0 0 0 1\n",
      " 1 1 0 0 0 0 0 0 0 1 0 0 0 0 1 0 1 0 0 0 0 0 0 0 0 1 0 0 0 0 1 0 0 0 0 1 0\n",
      " 0 0 0 0 0 0 0 0 1 0 0 0 0 0 0 0 0 0 0 1 0 0 0 1 0 1 0 0 0 0 0 0 0 0 0 0 0\n",
      " 0 0 0 0 0 1 1 1 0 0 0 0 0 0 0 1 0 0 1 0 1 0 0 0 0 0 1 0 0 0 0 0 0 0 1 0 1\n",
      " 1 0 0 1 1 0 1 0 0 0 0 0 0 0 0 0 0 0 0 0 0 0 0 0 0 1 0 0 0 0 0 0 1 0 1 0 0\n",
      " 0 0 0 0 0 0 0 0 1 0 0 0 0 0 0 1 0 0 0 0 0 0 0 0 0 0 1 0 0 0 0 0 0 0 0 0 0\n",
      " 1 0 0 0 0 0 0 0 0 0 1 0 0 0 0 0 1 0 1 0 0 1 0 0 1 0 0 0 1 0 0 0 0 1 0 0 1\n",
      " 0 1 0 0 0 0 0 0 0 0 1 1 0 0 0 0 0 1 1 1 1 0 0 0 0 0 1 1 1 0 0 1 0 0 0 0 0\n",
      " 0 1 0 0 0 1 0 0 1 1 0 0 0 0 0 1 0 0 0 0 0 0 1 0 0 0 0 1 1 0 0 0 0 0 0 0 0\n",
      " 0 1 1 0 0 0 0 1 0 0 1 0 0 0 0 0 0 0 0 0 1 1 0 0 0 0 0 0 0 0 0 0 1 0 1 0 0\n",
      " 0 1 0 0 1 0 0 0 1 1 1 0 0 0 0 1 0 0 1 0 0 0 0 0 0 0 0 0 0 0 0 0 0 0 0 0 0\n",
      " 0 0 0 0 0 0 0 0 1 1 0 0 0 1 0 0]\n",
      "              precision    recall  f1-score   support\n",
      "\n",
      "           0       0.94      0.87      0.90       462\n",
      "           1       0.43      0.64      0.52        72\n",
      "\n",
      "    accuracy                           0.84       534\n",
      "   macro avg       0.69      0.75      0.71       534\n",
      "weighted avg       0.87      0.84      0.85       534\n",
      "\n",
      "Confusion Matrix:\n",
      "         Predict[0]  Predict[1]\n",
      "True[0]         402          60\n",
      "True[1]          26          46\n"
     ]
    },
    {
     "data": {
      "text/html": [
       "<div>\n",
       "<style scoped>\n",
       "    .dataframe tbody tr th:only-of-type {\n",
       "        vertical-align: middle;\n",
       "    }\n",
       "\n",
       "    .dataframe tbody tr th {\n",
       "        vertical-align: top;\n",
       "    }\n",
       "\n",
       "    .dataframe thead th {\n",
       "        text-align: right;\n",
       "    }\n",
       "</style>\n",
       "<table border=\"1\" class=\"dataframe\">\n",
       "  <thead>\n",
       "    <tr style=\"text-align: right;\">\n",
       "      <th></th>\n",
       "      <th>Predict[0]</th>\n",
       "      <th>Predict[1]</th>\n",
       "    </tr>\n",
       "  </thead>\n",
       "  <tbody>\n",
       "    <tr>\n",
       "      <th>True[0]</th>\n",
       "      <td>402</td>\n",
       "      <td>60</td>\n",
       "    </tr>\n",
       "    <tr>\n",
       "      <th>True[1]</th>\n",
       "      <td>26</td>\n",
       "      <td>46</td>\n",
       "    </tr>\n",
       "  </tbody>\n",
       "</table>\n",
       "</div>"
      ],
      "text/plain": [
       "         Predict[0]  Predict[1]\n",
       "True[0]         402          60\n",
       "True[1]          26          46"
      ]
     },
     "execution_count": 18,
     "metadata": {},
     "output_type": "execute_result"
    }
   ],
   "source": [
    "from sklearn.ensemble import BaggingClassifier\n",
    "from sklearn.tree import DecisionTreeClassifier\n",
    "from time import process_time\n",
    "\n",
    "bagging = BaggingClassifier(base_estimator= DecisionTreeClassifier(random_state=12), max_samples = 1.0, max_features = 1.0, \n",
    "                            bootstrap = True, bootstrap_features = False, random_state=12)\n",
    "\n",
    "start = process_time()\n",
    "bagging.fit(X_train_sm, y_train_sm)\n",
    "end = process_time()\n",
    "print(end - start)\n",
    "\n",
    "bg_prediction_proba = bagging.predict_proba(X_test)[:, 1]\n",
    "\n",
    "y_pred = bagging.predict(X_test)\n",
    "\n",
    "print('Accuracy Score:', bagging.score(X_test, y_test))\n",
    "print('Prediction:', y_pred)\n",
    "\n",
    "mscore.append(['Bagging DecisionTree', bagging.score(X_test, y_test)])\n",
    "\n",
    "print(classification_report(y_test, y_pred))\n",
    "confusion(y_test, y_pred)"
   ]
  },
  {
   "cell_type": "code",
   "execution_count": 19,
   "id": "e58ba3ee",
   "metadata": {},
   "outputs": [
    {
     "name": "stdout",
     "output_type": "stream",
     "text": [
      "0.011257000000000517\n",
      "Accuracy Score: 0.8932584269662921\n",
      "Prediction: [0 0 0 0 0 0 0 0 0 1 0 0 0 0 0 0 0 0 0 0 1 0 0 0 1 0 0 0 0 0 0 0 0 0 0 0 0\n",
      " 0 1 0 0 0 0 0 0 0 0 0 0 0 0 0 0 0 0 1 0 0 1 0 0 0 0 0 0 0 0 0 0 1 0 0 0 1\n",
      " 0 0 0 0 0 0 1 0 0 1 0 0 0 0 0 0 1 1 0 0 0 0 0 0 0 0 0 0 0 0 0 0 0 0 0 0 0\n",
      " 0 0 0 0 0 0 1 0 0 0 0 0 0 0 0 0 0 0 0 0 0 0 0 0 0 0 0 0 1 0 0 0 1 0 0 0 1\n",
      " 0 1 0 0 0 0 0 0 0 0 0 0 0 0 0 0 1 0 0 0 0 0 0 0 0 0 0 0 0 0 0 0 0 0 0 0 0\n",
      " 0 0 0 0 0 0 0 0 0 0 0 0 0 0 0 0 0 0 0 1 0 0 0 1 0 0 0 0 0 0 0 0 0 0 0 0 0\n",
      " 0 0 0 0 0 0 1 1 0 0 0 0 0 0 0 0 0 1 0 0 1 0 0 0 0 0 1 0 0 0 0 0 0 0 0 0 0\n",
      " 0 0 0 1 0 0 1 0 0 0 0 0 0 0 0 0 1 0 0 0 0 0 0 0 0 1 0 0 0 0 0 0 0 0 0 0 0\n",
      " 0 0 0 0 0 0 0 0 0 0 0 0 0 0 0 1 0 0 1 0 0 0 0 0 0 0 0 0 0 0 0 0 0 0 0 0 0\n",
      " 0 0 0 0 0 0 0 0 0 0 0 0 0 0 0 0 0 0 0 0 0 1 0 0 0 0 0 1 1 0 0 0 0 0 0 0 1\n",
      " 0 0 0 0 0 0 0 0 0 0 1 0 0 0 0 0 0 0 1 0 0 0 0 0 0 0 0 0 1 0 0 0 0 0 0 0 0\n",
      " 0 0 0 0 0 0 0 0 0 0 0 0 0 0 0 0 0 0 0 0 0 0 0 0 0 0 0 0 0 0 0 0 0 0 0 0 0\n",
      " 0 1 1 0 0 0 0 0 0 0 0 0 0 0 0 0 0 1 0 0 1 1 0 0 0 0 0 0 0 0 0 0 1 0 0 1 0\n",
      " 0 0 0 0 0 0 0 0 0 1 0 0 0 0 0 0 0 0 0 0 0 0 0 0 1 0 0 0 0 0 0 0 0 0 0 0 0\n",
      " 0 0 0 0 0 0 0 0 1 1 0 0 0 0 0 0]\n",
      "              precision    recall  f1-score   support\n",
      "\n",
      "           0       0.92      0.96      0.94       462\n",
      "           1       0.65      0.44      0.53        72\n",
      "\n",
      "    accuracy                           0.89       534\n",
      "   macro avg       0.79      0.70      0.73       534\n",
      "weighted avg       0.88      0.89      0.88       534\n",
      "\n",
      "Confusion Matrix:\n",
      "         Predict[0]  Predict[1]\n",
      "True[0]         445          17\n",
      "True[1]          40          32\n"
     ]
    },
    {
     "data": {
      "text/html": [
       "<div>\n",
       "<style scoped>\n",
       "    .dataframe tbody tr th:only-of-type {\n",
       "        vertical-align: middle;\n",
       "    }\n",
       "\n",
       "    .dataframe tbody tr th {\n",
       "        vertical-align: top;\n",
       "    }\n",
       "\n",
       "    .dataframe thead th {\n",
       "        text-align: right;\n",
       "    }\n",
       "</style>\n",
       "<table border=\"1\" class=\"dataframe\">\n",
       "  <thead>\n",
       "    <tr style=\"text-align: right;\">\n",
       "      <th></th>\n",
       "      <th>Predict[0]</th>\n",
       "      <th>Predict[1]</th>\n",
       "    </tr>\n",
       "  </thead>\n",
       "  <tbody>\n",
       "    <tr>\n",
       "      <th>True[0]</th>\n",
       "      <td>445</td>\n",
       "      <td>17</td>\n",
       "    </tr>\n",
       "    <tr>\n",
       "      <th>True[1]</th>\n",
       "      <td>40</td>\n",
       "      <td>32</td>\n",
       "    </tr>\n",
       "  </tbody>\n",
       "</table>\n",
       "</div>"
      ],
      "text/plain": [
       "         Predict[0]  Predict[1]\n",
       "True[0]         445          17\n",
       "True[1]          40          32"
      ]
     },
     "execution_count": 19,
     "metadata": {},
     "output_type": "execute_result"
    }
   ],
   "source": [
    "from sklearn.neighbors import KNeighborsClassifier\n",
    "from time import process_time\n",
    "\n",
    "knn = KNeighborsClassifier()\n",
    "\n",
    "start = process_time()\n",
    "knn.fit(X_train_sm, y_train_sm)\n",
    "end = process_time()\n",
    "print(end - start)\n",
    "\n",
    "knn_prediction_proba = knn.predict_proba(X_test)[:, 1]\n",
    "\n",
    "y_pred = knn.predict(X_test)\n",
    "\n",
    "print('Accuracy Score:', knn.score(X_test, y_test))\n",
    "print('Prediction:', y_pred)\n",
    "\n",
    "mscore.append(['KNN', knn.score(X_test, y_test)])\n",
    "\n",
    "print(classification_report(y_test, y_pred))\n",
    "confusion(y_test, y_pred)"
   ]
  },
  {
   "cell_type": "code",
   "execution_count": 20,
   "id": "57be9cee",
   "metadata": {},
   "outputs": [
    {
     "name": "stdout",
     "output_type": "stream",
     "text": [
      "0.007601000000001079\n",
      "Accuracy Score: 0.5187265917602997\n",
      "Prediction: [1 1 1 1 0 1 0 1 1 1 1 0 0 1 0 1 0 0 1 1 1 1 0 1 1 0 1 1 1 1 1 1 0 1 0 1 1\n",
      " 0 1 1 1 1 0 1 1 1 1 1 0 1 0 1 1 1 1 1 0 0 1 1 0 1 1 0 0 1 1 1 1 1 0 1 0 0\n",
      " 1 1 1 0 1 1 1 0 1 1 1 1 0 1 0 0 1 1 0 1 0 0 1 0 1 1 1 1 0 1 1 0 0 1 0 1 0\n",
      " 1 0 0 0 0 1 1 1 1 0 1 0 1 0 1 1 0 0 0 0 1 0 0 1 0 0 0 1 0 0 1 0 1 1 1 1 1\n",
      " 1 1 0 0 1 0 0 1 1 1 1 1 1 0 1 0 1 1 0 0 1 1 0 1 1 1 1 0 1 0 1 0 0 0 0 1 1\n",
      " 0 1 1 0 0 0 1 0 1 1 1 1 0 1 0 0 0 0 0 1 1 0 1 1 0 1 1 1 1 0 0 1 0 1 0 0 0\n",
      " 0 0 1 0 0 1 1 1 1 1 0 1 1 0 0 1 0 1 1 0 1 0 1 0 1 0 1 0 1 1 1 1 0 1 1 1 1\n",
      " 1 1 1 1 1 0 1 1 0 1 1 0 1 0 0 1 0 1 0 0 0 1 1 1 1 1 1 0 1 0 0 1 1 1 1 1 0\n",
      " 1 1 0 0 0 1 1 1 1 0 1 1 1 1 0 1 1 0 1 1 1 0 1 1 0 1 1 1 1 1 0 1 1 1 1 0 1\n",
      " 1 0 0 0 0 0 1 0 1 1 1 1 0 1 0 1 1 1 1 1 1 1 1 0 1 1 1 1 1 0 1 0 0 1 1 1 1\n",
      " 1 1 1 0 0 1 0 0 1 0 1 1 1 0 1 0 0 0 1 1 1 0 0 1 0 0 1 1 0 0 0 1 1 1 0 0 1\n",
      " 0 1 1 0 0 1 0 0 1 1 0 0 1 0 0 1 0 0 0 0 1 0 1 0 1 1 1 1 1 0 0 1 1 0 0 1 0\n",
      " 0 1 1 0 0 0 1 1 0 1 1 1 0 1 1 0 1 0 0 1 1 1 0 0 0 1 1 0 1 1 1 1 1 0 1 1 1\n",
      " 1 1 1 1 1 1 0 0 1 1 0 0 1 0 0 1 0 0 1 0 1 0 1 1 1 0 1 0 1 1 1 0 1 1 1 0 1\n",
      " 0 0 0 0 1 1 1 0 1 1 0 0 1 1 1 0]\n",
      "              precision    recall  f1-score   support\n",
      "\n",
      "           0       0.98      0.45      0.62       462\n",
      "           1       0.21      0.94      0.35        72\n",
      "\n",
      "    accuracy                           0.52       534\n",
      "   macro avg       0.60      0.70      0.48       534\n",
      "weighted avg       0.88      0.52      0.58       534\n",
      "\n",
      "Confusion Matrix:\n",
      "         Predict[0]  Predict[1]\n",
      "True[0]         209         253\n",
      "True[1]           4          68\n"
     ]
    },
    {
     "data": {
      "text/html": [
       "<div>\n",
       "<style scoped>\n",
       "    .dataframe tbody tr th:only-of-type {\n",
       "        vertical-align: middle;\n",
       "    }\n",
       "\n",
       "    .dataframe tbody tr th {\n",
       "        vertical-align: top;\n",
       "    }\n",
       "\n",
       "    .dataframe thead th {\n",
       "        text-align: right;\n",
       "    }\n",
       "</style>\n",
       "<table border=\"1\" class=\"dataframe\">\n",
       "  <thead>\n",
       "    <tr style=\"text-align: right;\">\n",
       "      <th></th>\n",
       "      <th>Predict[0]</th>\n",
       "      <th>Predict[1]</th>\n",
       "    </tr>\n",
       "  </thead>\n",
       "  <tbody>\n",
       "    <tr>\n",
       "      <th>True[0]</th>\n",
       "      <td>209</td>\n",
       "      <td>253</td>\n",
       "    </tr>\n",
       "    <tr>\n",
       "      <th>True[1]</th>\n",
       "      <td>4</td>\n",
       "      <td>68</td>\n",
       "    </tr>\n",
       "  </tbody>\n",
       "</table>\n",
       "</div>"
      ],
      "text/plain": [
       "         Predict[0]  Predict[1]\n",
       "True[0]         209         253\n",
       "True[1]           4          68"
      ]
     },
     "execution_count": 20,
     "metadata": {},
     "output_type": "execute_result"
    }
   ],
   "source": [
    "from sklearn.naive_bayes import GaussianNB\n",
    "from time import process_time\n",
    "\n",
    "gnb = GaussianNB()\n",
    "\n",
    "start = process_time()\n",
    "gnb.fit(X_train_sm, y_train_sm)\n",
    "end = process_time()\n",
    "print(end - start)\n",
    "\n",
    "gnb_prediction_proba = gnb.predict_proba(X_test)[:, 1]\n",
    "\n",
    "y_pred = gnb.predict(X_test)\n",
    "\n",
    "print('Accuracy Score:', gnb.score(X_test, y_test))\n",
    "print('Prediction:', y_pred)\n",
    "\n",
    "mscore.append(['Gaussian Naive Bayes', gnb.score(X_test, y_test)])\n",
    "\n",
    "print(classification_report(y_test, y_pred))\n",
    "confusion(y_test, y_pred)"
   ]
  },
  {
   "cell_type": "code",
   "execution_count": 21,
   "id": "6d4fb661",
   "metadata": {},
   "outputs": [
    {
     "name": "stdout",
     "output_type": "stream",
     "text": [
      "0.3909699999999994\n",
      "Accuracy Score: 0.8127340823970037\n",
      "Prediction: [0 1 0 0 0 0 0 0 0 1 0 0 0 1 0 1 0 0 1 0 1 0 0 1 1 0 0 1 0 1 1 1 0 0 0 0 1\n",
      " 0 1 1 0 1 0 0 0 0 0 0 0 1 0 1 0 0 1 1 0 0 1 1 0 0 0 0 0 0 0 0 0 1 0 0 0 0\n",
      " 1 0 0 0 0 0 1 0 0 0 0 0 0 0 0 0 1 1 0 1 0 0 0 0 0 0 0 0 0 1 0 0 0 0 0 0 0\n",
      " 0 0 0 0 0 1 1 0 0 0 0 0 0 0 0 0 0 0 0 0 0 0 0 0 0 0 0 1 0 0 1 0 1 0 0 0 1\n",
      " 1 1 0 0 0 0 0 1 0 1 1 0 0 0 1 0 1 0 0 0 0 1 0 0 0 1 0 0 0 0 1 0 0 0 0 1 0\n",
      " 0 0 0 0 0 0 0 0 1 0 0 0 0 0 0 0 0 0 0 1 0 0 0 1 0 1 0 0 0 0 0 1 0 0 0 0 0\n",
      " 0 0 0 0 0 1 1 1 0 1 0 0 0 0 0 1 0 1 1 0 1 0 0 0 0 0 1 0 0 0 0 0 0 0 1 0 1\n",
      " 1 0 0 1 1 0 1 0 0 0 0 0 1 0 0 0 1 0 0 0 0 1 1 0 0 1 0 0 0 0 0 0 1 0 1 0 0\n",
      " 0 0 0 0 0 0 0 0 1 0 0 0 0 0 0 1 0 0 1 0 0 0 0 1 0 0 1 0 0 0 0 0 0 0 1 0 1\n",
      " 0 0 0 0 0 0 0 0 0 0 0 0 0 0 0 0 1 1 1 0 1 1 0 0 1 1 0 0 1 0 1 0 0 1 0 1 1\n",
      " 0 1 1 0 0 1 0 0 0 0 1 1 0 0 0 0 0 0 1 1 1 0 0 0 0 0 1 1 1 0 0 1 0 0 0 0 0\n",
      " 0 1 0 0 0 1 0 0 1 0 0 0 0 0 0 1 0 0 0 0 0 0 1 0 0 1 0 1 0 0 0 0 0 0 0 0 0\n",
      " 0 1 1 0 0 0 0 1 0 1 1 1 0 0 0 0 1 0 0 0 1 1 0 0 0 0 0 0 0 0 0 0 1 0 1 1 0\n",
      " 0 1 0 1 0 0 0 0 1 1 0 0 0 0 0 0 0 0 1 0 1 0 0 0 1 0 1 0 0 0 0 0 1 0 0 0 0\n",
      " 0 0 0 0 0 0 1 0 1 1 0 0 0 1 0 0]\n",
      "              precision    recall  f1-score   support\n",
      "\n",
      "           0       0.95      0.82      0.88       462\n",
      "           1       0.40      0.75      0.52        72\n",
      "\n",
      "    accuracy                           0.81       534\n",
      "   macro avg       0.68      0.79      0.70       534\n",
      "weighted avg       0.88      0.81      0.83       534\n",
      "\n",
      "Confusion Matrix:\n",
      "         Predict[0]  Predict[1]\n",
      "True[0]         380          82\n",
      "True[1]          18          54\n",
      "          Variable  Importance\n",
      "9      polyp_shape    0.311037\n",
      "7       polyp_size    0.262090\n",
      "4   past_diagnosis    0.187870\n",
      "6       polyp_loca    0.057855\n",
      "1         location    0.051541\n",
      "8        polyp_num    0.039356\n",
      "5        diagnosis    0.028510\n",
      "0              sex    0.014842\n",
      "3           reason    0.014359\n",
      "12       age_group    0.014171\n",
      "2        nutrition    0.008676\n",
      "10     polyp_state    0.008072\n",
      "11       pathology    0.001620\n"
     ]
    }
   ],
   "source": [
    "from sklearn.ensemble import GradientBoostingClassifier\n",
    "from time import process_time\n",
    "\n",
    "gbc = GradientBoostingClassifier(learning_rate=0.1, n_estimators=100, random_state=12)\n",
    "\n",
    "start = process_time()\n",
    "model = gbc.fit(X_train_sm, y_train_sm)\n",
    "end = process_time()\n",
    "print(end - start)\n",
    "\n",
    "gbc_prediction_proba = gbc.predict_proba(X_test)[:, 1]\n",
    "\n",
    "y_pred = gbc.predict(X_test)\n",
    "\n",
    "print('Accuracy Score:', gbc.score(X_test, y_test))\n",
    "print('Prediction:', y_pred)\n",
    "\n",
    "mscore.append(['Gradient Boosting', gbc.score(X_test, y_test)])\n",
    "\n",
    "print(classification_report(y_test, y_pred))\n",
    "confusion(y_test, y_pred)\n",
    "print(pd.DataFrame({'Variable':X.columns,\n",
    "              'Importance':model.feature_importances_}).sort_values('Importance', ascending=False))"
   ]
  },
  {
   "cell_type": "code",
   "execution_count": 22,
   "id": "1fb16be8",
   "metadata": {},
   "outputs": [
    {
     "name": "stdout",
     "output_type": "stream",
     "text": [
      "0.24781300000000073\n",
      "Accuracy Score: 0.7940074906367042\n",
      "Prediction: [0 0 0 0 0 0 0 0 0 1 0 0 0 1 0 1 0 0 1 0 1 0 0 0 1 0 0 0 0 1 0 1 0 0 0 0 0\n",
      " 0 1 1 0 0 0 0 1 0 0 1 0 1 0 0 1 0 1 1 0 0 1 0 0 0 1 0 0 0 0 0 1 1 0 0 0 0\n",
      " 0 0 0 0 1 0 1 0 0 0 0 0 0 0 0 0 1 1 0 1 0 0 0 0 0 0 0 0 0 1 0 0 0 0 0 1 0\n",
      " 0 0 0 0 0 1 1 0 0 0 0 0 1 0 0 0 0 0 0 0 0 0 0 0 0 0 0 0 0 0 0 0 1 0 1 0 1\n",
      " 0 1 0 0 0 0 0 1 1 0 1 1 0 0 1 0 1 1 0 0 0 1 0 0 0 1 0 0 0 0 1 0 0 0 0 1 0\n",
      " 0 1 1 0 0 0 0 0 0 0 0 0 0 0 0 0 0 0 0 1 0 0 1 1 0 1 0 0 0 0 0 1 0 0 0 0 0\n",
      " 0 0 1 0 0 1 1 1 1 1 1 0 0 0 0 1 0 1 1 0 1 0 0 0 1 0 0 0 0 0 0 0 0 0 0 0 1\n",
      " 1 0 0 1 0 0 1 1 0 0 0 0 0 0 0 0 1 0 0 0 0 1 1 0 0 1 0 0 0 0 0 0 0 1 1 0 0\n",
      " 0 0 0 0 0 0 1 1 0 0 0 1 0 0 0 1 0 0 1 1 1 0 0 1 0 0 1 0 1 0 0 0 0 0 1 0 1\n",
      " 1 0 0 0 0 0 0 0 0 0 0 0 0 0 0 0 0 1 1 0 1 1 0 0 0 1 0 0 1 0 1 0 0 0 0 1 1\n",
      " 0 1 0 0 0 1 0 0 1 0 1 1 0 0 0 0 0 0 1 1 0 0 0 0 0 0 0 0 1 0 0 1 0 0 0 0 1\n",
      " 0 0 0 0 0 1 0 0 1 0 0 0 0 0 0 1 0 0 0 0 0 0 1 0 0 1 1 0 0 0 0 0 0 0 0 0 0\n",
      " 0 1 1 0 0 0 0 0 0 1 0 1 0 0 0 0 1 1 0 0 1 1 0 0 0 0 0 0 0 0 0 1 1 0 1 1 1\n",
      " 0 0 1 1 0 1 0 0 1 1 0 0 1 0 0 1 0 0 0 0 0 0 0 0 1 0 1 0 0 0 0 0 1 0 0 0 0\n",
      " 0 0 0 0 0 0 1 0 1 1 0 0 0 1 0 0]\n",
      "              precision    recall  f1-score   support\n",
      "\n",
      "           0       0.95      0.81      0.87       462\n",
      "           1       0.36      0.71      0.48        72\n",
      "\n",
      "    accuracy                           0.79       534\n",
      "   macro avg       0.66      0.76      0.68       534\n",
      "weighted avg       0.87      0.79      0.82       534\n",
      "\n",
      "Confusion Matrix:\n",
      "         Predict[0]  Predict[1]\n",
      "True[0]         373          89\n",
      "True[1]          21          51\n",
      "          Variable  Importance\n",
      "5        diagnosis        0.20\n",
      "7       polyp_size        0.16\n",
      "6       polyp_loca        0.12\n",
      "4   past_diagnosis        0.08\n",
      "8        polyp_num        0.08\n",
      "11       pathology        0.08\n",
      "1         location        0.06\n",
      "10     polyp_state        0.06\n",
      "12       age_group        0.06\n",
      "9      polyp_shape        0.04\n",
      "0              sex        0.02\n",
      "2        nutrition        0.02\n",
      "3           reason        0.02\n"
     ]
    }
   ],
   "source": [
    "from sklearn.ensemble import AdaBoostClassifier\n",
    "from time import process_time\n",
    "\n",
    "ada = AdaBoostClassifier(learning_rate=1.0, n_estimators=50, random_state=12)\n",
    "\n",
    "start = process_time()\n",
    "model = ada.fit(X_train_sm, y_train_sm)\n",
    "end = process_time()\n",
    "print(end - start)\n",
    "\n",
    "ada_prediction_proba = ada.predict_proba(X_test)[:, 1]\n",
    "\n",
    "y_pred = ada.predict(X_test)\n",
    "\n",
    "print('Accuracy Score:', ada.score(X_test, y_test))\n",
    "print('Prediction:', y_pred)\n",
    "\n",
    "mscore.append(['Adaptive Boosting', ada.score(X_test, y_test)])\n",
    "\n",
    "# from sklearn.metrics import classification_report\n",
    "print(classification_report(y_test, y_pred))\n",
    "confusion(y_test, y_pred)\n",
    "print(pd.DataFrame({'Variable':X.columns,\n",
    "              'Importance':model.feature_importances_}).sort_values('Importance', ascending=False))"
   ]
  },
  {
   "cell_type": "code",
   "execution_count": 23,
   "id": "4d081b0c",
   "metadata": {},
   "outputs": [
    {
     "name": "stdout",
     "output_type": "stream",
     "text": [
      "4.854939999999999\n",
      "Accuracy Score: 0.7752808988764045\n",
      "Prediction: [0 1 0 0 0 0 0 0 0 1 0 0 0 1 0 1 0 0 1 0 1 0 0 1 1 0 0 1 0 1 1 1 0 0 0 0 1\n",
      " 0 1 1 0 1 0 0 1 0 0 1 0 1 0 1 0 0 1 1 0 0 1 1 0 0 0 0 0 0 0 1 0 1 0 0 0 0\n",
      " 1 0 0 0 1 0 1 0 0 0 0 0 0 0 0 0 1 1 0 1 0 0 0 0 0 0 0 0 0 1 0 0 0 0 0 0 0\n",
      " 0 0 0 0 0 1 1 0 0 0 0 0 0 0 0 0 0 0 0 0 0 0 0 0 0 0 0 1 0 0 1 0 1 0 1 0 1\n",
      " 1 1 0 0 0 0 0 1 1 1 1 1 0 0 1 0 1 1 0 0 0 1 0 0 0 1 0 0 0 0 1 0 0 0 0 1 0\n",
      " 0 1 1 0 0 0 0 0 1 0 0 0 0 0 0 0 0 0 0 1 0 0 1 1 0 1 0 0 1 0 0 1 1 0 0 0 0\n",
      " 0 0 0 0 0 1 1 1 1 1 0 0 0 0 0 1 0 1 1 0 1 0 0 0 0 0 1 0 0 0 0 0 0 0 1 0 1\n",
      " 1 0 0 1 1 0 1 1 0 0 0 0 1 0 0 0 1 0 0 0 0 1 1 0 0 1 0 0 0 0 0 0 1 0 1 1 0\n",
      " 0 0 0 0 0 0 1 1 1 0 0 1 0 0 0 1 0 0 1 1 0 0 0 1 0 0 1 0 0 0 0 0 0 0 1 0 1\n",
      " 0 0 0 0 0 1 0 0 0 0 0 0 0 0 0 0 1 1 1 0 1 1 0 0 1 1 0 0 1 0 1 0 0 1 0 1 1\n",
      " 0 1 1 0 0 1 0 0 0 0 1 1 0 0 0 0 0 0 1 1 1 0 0 0 0 0 1 1 1 0 0 1 0 0 0 0 0\n",
      " 0 1 0 0 0 1 0 0 1 0 0 0 0 0 0 1 0 0 0 0 0 0 1 0 0 1 1 1 1 0 0 0 0 0 0 0 0\n",
      " 0 1 1 0 0 0 0 1 0 1 1 1 0 0 0 0 1 0 0 0 1 1 0 0 0 0 0 0 0 0 0 1 1 0 1 1 1\n",
      " 0 1 0 1 0 1 0 0 1 1 0 0 1 0 0 0 0 0 0 0 1 0 0 0 1 0 1 0 0 0 0 0 1 0 0 0 0\n",
      " 0 0 0 0 0 0 1 0 1 1 0 0 0 1 0 0]\n",
      "              precision    recall  f1-score   support\n",
      "\n",
      "           0       0.96      0.77      0.86       462\n",
      "           1       0.35      0.79      0.49        72\n",
      "\n",
      "    accuracy                           0.78       534\n",
      "   macro avg       0.66      0.78      0.67       534\n",
      "weighted avg       0.88      0.78      0.81       534\n",
      "\n",
      "Confusion Matrix:\n",
      "         Predict[0]  Predict[1]\n",
      "True[0]         357         105\n",
      "True[1]          15          57\n"
     ]
    },
    {
     "data": {
      "text/html": [
       "<div>\n",
       "<style scoped>\n",
       "    .dataframe tbody tr th:only-of-type {\n",
       "        vertical-align: middle;\n",
       "    }\n",
       "\n",
       "    .dataframe tbody tr th {\n",
       "        vertical-align: top;\n",
       "    }\n",
       "\n",
       "    .dataframe thead th {\n",
       "        text-align: right;\n",
       "    }\n",
       "</style>\n",
       "<table border=\"1\" class=\"dataframe\">\n",
       "  <thead>\n",
       "    <tr style=\"text-align: right;\">\n",
       "      <th></th>\n",
       "      <th>Predict[0]</th>\n",
       "      <th>Predict[1]</th>\n",
       "    </tr>\n",
       "  </thead>\n",
       "  <tbody>\n",
       "    <tr>\n",
       "      <th>True[0]</th>\n",
       "      <td>357</td>\n",
       "      <td>105</td>\n",
       "    </tr>\n",
       "    <tr>\n",
       "      <th>True[1]</th>\n",
       "      <td>15</td>\n",
       "      <td>57</td>\n",
       "    </tr>\n",
       "  </tbody>\n",
       "</table>\n",
       "</div>"
      ],
      "text/plain": [
       "         Predict[0]  Predict[1]\n",
       "True[0]         357         105\n",
       "True[1]          15          57"
      ]
     },
     "execution_count": 23,
     "metadata": {},
     "output_type": "execute_result"
    }
   ],
   "source": [
    "from sklearn.svm import SVC\n",
    "from time import process_time\n",
    "\n",
    "svm_clf = SVC(kernel='rbf', gamma='scale', probability=True, random_state=12)\n",
    "\n",
    "start = process_time()\n",
    "svm_clf.fit(X_train_sm, y_train_sm)\n",
    "end = process_time()\n",
    "print(end - start)\n",
    "\n",
    "svm_prediction_proba = svm_clf.predict_proba(X_test)[:, 1]\n",
    "\n",
    "y_pred = svm_clf.predict(X_test)\n",
    "\n",
    "print('Accuracy Score:', svm_clf.score(X_test, y_test))\n",
    "print('Prediction:', y_pred)\n",
    "\n",
    "mscore.append(['SVM', svm_clf.score(X_test, y_test)])\n",
    "\n",
    "# from sklearn.metrics import classification_report\n",
    "print(classification_report(y_test, y_pred))\n",
    "confusion(y_test, y_pred)"
   ]
  },
  {
   "cell_type": "code",
   "execution_count": 24,
   "id": "c4ebcb47",
   "metadata": {},
   "outputs": [
    {
     "name": "stdout",
     "output_type": "stream",
     "text": [
      "1.1954340000000023\n",
      "Accuracy Score: 0.8558052434456929\n",
      "Prediction: [0 1 0 0 0 0 0 0 0 1 0 0 0 1 0 0 0 0 1 0 1 0 0 1 1 0 0 0 0 1 1 1 0 0 0 0 1\n",
      " 0 1 1 0 1 0 0 0 0 0 0 0 1 0 1 0 0 1 1 0 0 1 1 0 0 0 0 0 0 0 0 1 1 0 0 0 0\n",
      " 1 0 0 0 0 0 1 0 0 0 0 0 0 0 0 0 1 1 0 1 0 0 0 0 0 0 0 0 0 1 0 0 0 0 0 0 0\n",
      " 0 0 0 0 0 1 1 0 0 0 0 0 0 0 0 0 0 0 0 0 0 0 0 0 0 0 0 0 0 0 1 0 1 0 0 0 1\n",
      " 1 1 0 0 0 0 0 0 0 1 0 0 0 0 1 0 1 0 0 0 0 0 0 0 0 1 0 0 0 0 1 0 0 0 0 1 0\n",
      " 0 0 0 0 0 0 0 0 1 0 0 0 0 0 0 0 0 0 0 1 0 0 0 1 0 1 0 0 1 0 0 0 0 0 0 0 0\n",
      " 0 0 0 0 0 1 1 1 0 0 0 0 0 0 0 1 0 1 1 0 1 0 0 0 0 0 1 0 0 0 0 0 0 0 1 0 0\n",
      " 1 0 0 1 1 0 1 0 0 0 0 0 0 0 0 0 0 0 0 0 0 0 0 0 0 1 0 0 0 0 0 0 1 0 1 0 0\n",
      " 0 0 0 0 0 0 0 0 1 0 0 0 0 0 0 1 0 0 1 0 0 0 0 1 0 0 1 0 0 0 0 0 0 0 0 0 0\n",
      " 0 0 0 0 0 0 0 0 0 0 0 0 0 0 0 0 1 0 1 0 0 1 0 0 1 0 0 0 1 0 0 0 0 1 0 0 1\n",
      " 0 1 1 0 0 0 0 0 0 0 1 1 0 0 0 0 0 0 1 1 1 0 0 0 0 0 1 1 1 0 0 1 0 0 0 0 0\n",
      " 0 1 0 0 0 1 0 0 1 0 0 0 0 0 0 1 0 0 0 0 0 0 0 0 0 0 0 1 0 0 0 0 0 0 0 0 0\n",
      " 0 1 1 0 0 0 0 1 0 0 1 1 0 0 0 0 0 0 0 0 1 1 0 0 0 0 0 0 0 0 0 0 1 0 1 1 0\n",
      " 0 1 0 1 0 0 0 0 1 1 0 0 0 0 0 0 0 0 1 0 0 0 0 0 1 0 0 0 0 0 0 0 0 0 0 0 0\n",
      " 0 0 0 0 0 0 0 0 1 1 0 0 0 1 0 0]\n",
      "              precision    recall  f1-score   support\n",
      "\n",
      "           0       0.95      0.88      0.91       462\n",
      "           1       0.48      0.72      0.57        72\n",
      "\n",
      "    accuracy                           0.86       534\n",
      "   macro avg       0.72      0.80      0.74       534\n",
      "weighted avg       0.89      0.86      0.87       534\n",
      "\n",
      "Confusion Matrix:\n",
      "         Predict[0]  Predict[1]\n",
      "True[0]         405          57\n",
      "True[1]          20          52\n",
      "          Variable  Importance\n",
      "9      polyp_shape    0.472416\n",
      "4   past_diagnosis    0.110041\n",
      "7       polyp_size    0.108677\n",
      "10     polyp_state    0.051695\n",
      "8        polyp_num    0.049421\n",
      "1         location    0.038095\n",
      "6       polyp_loca    0.032447\n",
      "3           reason    0.028534\n",
      "5        diagnosis    0.028521\n",
      "2        nutrition    0.028033\n",
      "0              sex    0.025508\n",
      "12       age_group    0.020736\n",
      "11       pathology    0.005875\n"
     ]
    }
   ],
   "source": [
    "from xgboost import XGBClassifier\n",
    "from time import process_time\n",
    "\n",
    "xgbc = XGBClassifier(eta=0.3, max_depth=6, random_state=12)\n",
    "\n",
    "start = process_time()\n",
    "model = xgbc.fit(X_train_sm, y_train_sm)\n",
    "end = process_time()\n",
    "print(end - start)\n",
    "\n",
    "xgbc_prediction_proba = xgbc.predict_proba(X_test)[:, 1]\n",
    "\n",
    "y_pred = xgbc.predict(X_test)\n",
    "\n",
    "print('Accuracy Score:', xgbc.score(X_test, y_test))\n",
    "print('Prediction:', y_pred)\n",
    "\n",
    "mscore.append(['XGBoost', xgbc.score(X_test, y_test)])\n",
    "\n",
    "from sklearn.metrics import classification_report\n",
    "print(classification_report(y_test, y_pred))\n",
    "confusion(y_test, y_pred)\n",
    "print(pd.DataFrame({'Variable':X.columns,\n",
    "              'Importance':model.feature_importances_}).sort_values('Importance', ascending=False))"
   ]
  },
  {
   "cell_type": "code",
   "execution_count": 25,
   "id": "d1ec648b",
   "metadata": {},
   "outputs": [
    {
     "name": "stdout",
     "output_type": "stream",
     "text": [
      "9.996385\n",
      "Accuracy Score: 0.7940074906367042\n",
      "Prediction: [0 1 0 0 0 0 0 0 0 1 0 0 0 1 0 0 0 0 1 0 1 0 0 1 1 0 0 0 0 1 1 1 0 0 0 0 1\n",
      " 0 1 1 0 1 0 0 0 0 0 0 0 1 0 1 1 0 1 1 0 0 1 1 0 0 1 0 0 0 0 1 1 1 0 0 0 0\n",
      " 1 0 0 0 0 0 1 0 0 0 0 0 0 0 0 0 1 1 0 1 0 0 0 0 0 0 0 0 0 1 0 0 0 0 0 1 0\n",
      " 1 0 0 0 0 1 1 0 0 1 0 0 0 0 0 0 0 0 0 0 0 0 0 0 0 0 0 0 0 0 1 0 1 0 0 0 1\n",
      " 1 1 0 0 0 0 0 1 0 1 0 0 0 0 1 0 1 0 0 0 0 1 0 0 1 1 0 0 0 0 1 0 0 0 0 1 0\n",
      " 0 0 0 0 0 0 0 0 1 0 0 0 0 0 0 0 0 0 0 1 0 0 0 1 0 1 0 0 1 0 0 0 0 0 0 0 0\n",
      " 0 0 1 0 0 1 1 1 0 1 0 0 0 0 0 1 0 1 1 0 1 0 0 0 0 0 1 0 0 0 0 0 0 0 1 0 1\n",
      " 1 0 0 1 1 0 1 1 0 0 0 0 0 0 0 0 1 0 0 0 0 1 1 0 0 1 0 0 0 0 0 0 1 1 1 1 0\n",
      " 0 0 0 0 0 0 0 0 1 0 0 0 0 0 0 1 0 0 0 0 0 0 0 1 0 0 1 0 1 0 0 0 0 0 0 0 1\n",
      " 1 0 0 0 0 1 1 0 0 0 1 1 0 0 0 0 1 1 1 0 1 1 0 0 1 1 0 0 1 0 0 0 0 1 0 1 1\n",
      " 0 1 1 0 0 1 0 0 0 0 1 1 0 0 0 0 0 0 1 1 1 0 0 0 0 0 1 1 1 0 0 1 0 0 0 0 0\n",
      " 0 1 0 0 0 1 0 0 1 0 0 0 0 0 0 1 0 0 0 0 0 0 1 0 0 0 0 1 0 0 0 0 0 0 0 0 0\n",
      " 0 1 1 0 0 0 0 1 0 1 1 1 0 0 0 0 0 0 0 1 1 1 0 0 0 0 0 0 0 0 0 0 1 0 1 1 0\n",
      " 0 1 0 1 1 1 0 0 1 1 0 0 0 0 0 1 0 0 1 0 1 0 0 0 1 0 1 0 0 0 0 0 1 0 1 0 0\n",
      " 0 0 0 0 1 0 1 0 1 1 0 0 0 1 0 0]\n",
      "parameter:  {'activation': 'relu', 'alpha': 0.0001, 'batch_size': 'auto', 'beta_1': 0.9, 'beta_2': 0.999, 'early_stopping': False, 'epsilon': 1e-08, 'hidden_layer_sizes': (100,), 'learning_rate': 'constant', 'learning_rate_init': 0.001, 'max_fun': 15000, 'max_iter': 200, 'momentum': 0.9, 'n_iter_no_change': 10, 'nesterovs_momentum': True, 'power_t': 0.5, 'random_state': 12, 'shuffle': True, 'solver': 'adam', 'tol': 0.0001, 'validation_fraction': 0.1, 'verbose': False, 'warm_start': False}\n"
     ]
    },
    {
     "name": "stderr",
     "output_type": "stream",
     "text": [
      "/Users/zhiyi/opt/anaconda3/lib/python3.9/site-packages/sklearn/neural_network/_multilayer_perceptron.py:692: ConvergenceWarning: Stochastic Optimizer: Maximum iterations (200) reached and the optimization hasn't converged yet.\n",
      "  warnings.warn(\n"
     ]
    }
   ],
   "source": [
    "from sklearn.neural_network import MLPClassifier\n",
    "from time import process_time\n",
    "\n",
    "mlp = MLPClassifier(hidden_layer_sizes=(100,), solver='adam', shuffle=True, tol = 0.0001, random_state=12)\n",
    "\n",
    "start = process_time()\n",
    "mlp.fit(X_train_sm, y_train_sm)\n",
    "end = process_time()\n",
    "print(end - start)\n",
    "\n",
    "mlp_prediction_proba = mlp.predict_proba(X_test)[:, 1]\n",
    "\n",
    "mlp_pred_diabetes = mlp.predict(X_test)\n",
    "\n",
    "print('Accuracy Score:', mlp.score(X_test, y_test))\n",
    "print('Prediction:', mlp_pred_diabetes)\n",
    "print(\"parameter: \", mlp.get_params())\n",
    "\n",
    "mscore.append(['MLP', mlp.score(X_test, y_test)])"
   ]
  },
  {
   "cell_type": "code",
   "execution_count": 26,
   "id": "d0199948",
   "metadata": {},
   "outputs": [
    {
     "data": {
      "text/plain": [
       "[['KNN', 0.8932584269662921],\n",
       " ['XGBoost', 0.8558052434456929],\n",
       " ['Random Forest', 0.8520599250936329],\n",
       " ['Bagging DecisionTree', 0.8389513108614233],\n",
       " ['Gradient Boosting', 0.8127340823970037],\n",
       " ['Adaptive Boosting', 0.7940074906367042],\n",
       " ['MLP', 0.7940074906367042],\n",
       " ['SVM', 0.7752808988764045],\n",
       " ['Logistic Regression', 0.7359550561797753],\n",
       " ['Gaussian Naive Bayes', 0.5187265917602997]]"
      ]
     },
     "execution_count": 26,
     "metadata": {},
     "output_type": "execute_result"
    }
   ],
   "source": [
    "mscore.sort(key=lambda x: x[1], reverse=True)\n",
    "mscore"
   ]
  },
  {
   "cell_type": "code",
   "execution_count": 27,
   "id": "77df43a1",
   "metadata": {},
   "outputs": [
    {
     "name": "stdout",
     "output_type": "stream",
     "text": [
      "Accracy Score: \n",
      "\n",
      "KNN: 89.33%\n",
      "XGBoost: 85.58%\n",
      "Random Forest: 85.21%\n",
      "Bagging DecisionTree: 83.9%\n",
      "Gradient Boosting: 81.27%\n",
      "Adaptive Boosting: 79.4%\n",
      "MLP: 79.4%\n",
      "SVM: 77.53%\n",
      "Logistic Regression: 73.6%\n",
      "Gaussian Naive Bayes: 51.87%\n"
     ]
    },
    {
     "data": {
      "image/png": "[encoded data removed]",
      "text/plain": [
       "<Figure size 432x288 with 1 Axes>"
      ]
     },
     "metadata": {
      "needs_background": "light"
     },
     "output_type": "display_data"
    }
   ],
   "source": [
    "model = list(i[0] for i in mscore)\n",
    "score = list(round(i[1]*100,2) for i in mscore)\n",
    "\n",
    "print('Accracy Score: \\n')\n",
    "for m,s in zip(model, score):\n",
    "    print(f'{m}: {s}%')\n",
    "  \n",
    " \n",
    "# creating horizontal bar plot\n",
    "plt.barh(model, score, height = 0.5, color='#4B4E6D') # this color is called independence, how cool!\n",
    " \n",
    "plt.xlabel(\"Accuracy Score\")\n",
    "plt.ylabel(\"Model\")\n",
    "plt.title(\"Model Comparison\")\n",
    "plt.gca().invert_yaxis()\n",
    "plt.show()"
   ]
  },
  {
   "cell_type": "code",
   "execution_count": 28,
   "id": "38e673ac",
   "metadata": {},
   "outputs": [
    {
     "data": {
      "image/png": "[encoded data removed]",
      "text/plain": [
       "<Figure size 648x504 with 1 Axes>"
      ]
     },
     "metadata": {
      "needs_background": "light"
     },
     "output_type": "display_data"
    }
   ],
   "source": [
    "rf_prediction_proba = rnd_clf.predict_proba(X_test)[:, 1]\n",
    "def roc_curve_and_score(y_test, pred_proba):\n",
    "    fpr, tpr, _ = roc_curve(y_test.ravel(), pred_proba.ravel())\n",
    "    roc_auc = roc_auc_score(y_test.ravel(), pred_proba.ravel())\n",
    "    return fpr, tpr, roc_auc\n",
    "\n",
    "from sklearn.metrics import roc_auc_score, roc_curve\n",
    "import matplotlib\n",
    "import matplotlib.pyplot as plt\n",
    "plt.figure(figsize=(9, 7))\n",
    "matplotlib.rcParams.update({'font.size': 15})\n",
    "plt.grid()\n",
    "fpr, tpr, roc_auc = roc_curve_and_score(y_test, rf_prediction_proba)\n",
    "plt.plot(fpr, tpr, color='darkorange', lw=2,\n",
    "         label='Random Forest={0:.3f}'.format(roc_auc))\n",
    "fpr, tpr, roc_auc = roc_curve_and_score(y_test, gbc_prediction_proba)\n",
    "plt.plot(fpr, tpr, color='green', lw=2,\n",
    "         label='Gradient Boosting={0:.3f}'.format(roc_auc))\n",
    "fpr, tpr, roc_auc = roc_curve_and_score(y_test, xgbc_prediction_proba)\n",
    "plt.plot(fpr, tpr, color='purple', lw=2,\n",
    "         label='XGBoost={0:.3f}'.format(roc_auc))\n",
    "fpr, tpr, roc_auc = roc_curve_and_score(y_test, svm_prediction_proba)\n",
    "plt.plot(fpr, tpr, color='sienna', lw=2,\n",
    "         label='SVM={0:.3f}'.format(roc_auc))\n",
    "fpr, tpr, roc_auc = roc_curve_and_score(y_test, mlp_prediction_proba)\n",
    "plt.plot(fpr, tpr, color='blue', lw=2,\n",
    "         label='MLP={0:.3f}'.format(roc_auc))\n",
    "fpr, tpr, roc_auc = roc_curve_and_score(y_test, ada_prediction_proba)\n",
    "plt.plot(fpr, tpr, color='yellow', lw=2,\n",
    "         label='AdaBoost={0:.3f}'.format(roc_auc))\n",
    "fpr, tpr, roc_auc = roc_curve_and_score(y_test, knn_prediction_proba)\n",
    "plt.plot(fpr, tpr, color='grey', lw=2,\n",
    "         label='KNN={0:.3f}'.format(roc_auc))\n",
    "fpr, tpr, roc_auc = roc_curve_and_score(y_test, gnb_prediction_proba)\n",
    "plt.plot(fpr, tpr, color='purple', lw=2,\n",
    "         label='Gaussian Naive Bayes={0:.3f}'.format(roc_auc))\n",
    "fpr, tpr, roc_auc = roc_curve_and_score(y_test, bg_prediction_proba)\n",
    "plt.plot(fpr, tpr, color='cyan', lw=2,\n",
    "         label='Bagging DecisionTree={0:.3f}'.format(roc_auc))\n",
    "fpr, tpr, roc_auc = roc_curve_and_score(y_test, clf_prediction_proba)\n",
    "plt.plot(fpr, tpr, color='crimson', lw=2,\n",
    "         label='Logistic Regression={0:.3f}'.format(roc_auc))\n",
    "\n",
    "plt.plot([0, 1], [0, 1], color='navy', lw=1, linestyle='--')\n",
    "plt.legend(loc=\"lower right\")\n",
    "plt.xlim([0.0, 1.0])\n",
    "plt.ylim([0.0, 1.05])\n",
    "plt.xlabel('1 - Specificity')\n",
    "plt.ylabel('Sensitivity')\n",
    "plt.show()"
   ]
  },
  {
   "cell_type": "code",
   "execution_count": null,
   "id": "850d419d",
   "metadata": {},
   "outputs": [],
   "source": []
  }
 ],
 "metadata": {
  "kernelspec": {
   "display_name": "Python 3 (ipykernel)",
   "language": "python",
   "name": "python3"
  },
  "language_info": {
   "codemirror_mode": {
    "name": "ipython",
    "version": 3
   },
   "file_extension": ".py",
   "mimetype": "text/x-python",
   "name": "python",
   "nbconvert_exporter": "python",
   "pygments_lexer": "ipython3",
   "version": "3.9.12"
  }
 },
 "nbformat": 4,
 "nbformat_minor": 5
}
